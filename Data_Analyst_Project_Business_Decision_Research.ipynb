{
  "nbformat": 4,
  "nbformat_minor": 0,
  "metadata": {
    "colab": {
      "provenance": []
    },
    "kernelspec": {
      "name": "python3",
      "display_name": "Python 3"
    },
    "language_info": {
      "name": "python"
    },
    "accelerator": "GPU",
    "gpuClass": "standard"
  },
  "cells": [
    {
      "cell_type": "markdown",
      "source": [
        "Berikut merupakan catatan dari awal pengerjaan hingga selesai agar lebih sistematis untuk dilaporkan\n",
        "1. Data Preparation Tes\n",
        "* Importing data: Melakukan import data_retail.csv ke python environment.\n",
        "* Cleansing data: Melakukan pembersihan dan modifikasi data sehingga siap digunakan untuk analisis lebih lanjut.\n",
        "\n",
        "2. Data visualization test: Mendapatkan insight dari hasil visualisasi yang telah dibuat.\n",
        "3. Basic stats method test: Mendapatkan insight dari model dan evaluasi model yang sudah dibuat dan diuji."
      ],
      "metadata": {
        "id": "5IUzUzHSkI53"
      }
    },
    {
      "cell_type": "markdown",
      "source": [
        "# Data Preparation "
      ],
      "metadata": {
        "id": "zapanLCSkx-7"
      }
    },
    {
      "cell_type": "markdown",
      "source": [
        "Importing Data"
      ],
      "metadata": {
        "id": "hr1hnVA5k15S"
      }
    },
    {
      "cell_type": "code",
      "execution_count": 1,
      "metadata": {
        "id": "LR3c4wc6EdOO",
        "colab": {
          "base_uri": "https://localhost:8080/"
        },
        "outputId": "31f89d27-3290-422f-efef-f7d2ec140307"
      },
      "outputs": [
        {
          "output_type": "stream",
          "name": "stdout",
          "text": [
            "--2023-01-04 12:09:39--  https://raw.githubusercontent.com/AriesRmd/Business-Decision-Research/master/data_retail.csv\n",
            "Resolving raw.githubusercontent.com (raw.githubusercontent.com)... 185.199.111.133, 185.199.108.133, 185.199.109.133, ...\n",
            "Connecting to raw.githubusercontent.com (raw.githubusercontent.com)|185.199.111.133|:443... connected.\n",
            "HTTP request sent, awaiting response... 200 OK\n",
            "Length: 6324421 (6.0M) [text/plain]\n",
            "Saving to: ‘/content/data_retail.csv’\n",
            "\n",
            "/content/data_retai 100%[===================>]   6.03M  --.-KB/s    in 0.03s   \n",
            "\n",
            "2023-01-04 12:09:40 (214 MB/s) - ‘/content/data_retail.csv’ saved [6324421/6324421]\n",
            "\n"
          ]
        }
      ],
      "source": [
        "# Download dataset\n",
        "#https://raw.githubusercontent.com/AriesRmd/Business-Decision-Research/master/data_retail.csv\n",
        "!wget --no-check-certificate \\\n",
        "    https://raw.githubusercontent.com/AriesRmd/Business-Decision-Research/master/data_retail.csv \\\n",
        "    -O /content/data_retail.csv"
      ]
    },
    {
      "cell_type": "code",
      "source": [
        "import pandas as pd"
      ],
      "metadata": {
        "id": "KZFrOtPVF0vv"
      },
      "execution_count": 2,
      "outputs": []
    },
    {
      "cell_type": "code",
      "source": [
        "df = pd.read_csv('/content/data_retail.csv', sep=';')"
      ],
      "metadata": {
        "id": "w8ZCrx1PF2MO"
      },
      "execution_count": 3,
      "outputs": []
    },
    {
      "cell_type": "code",
      "source": [
        "df.head()"
      ],
      "metadata": {
        "colab": {
          "base_uri": "https://localhost:8080/",
          "height": 206
        },
        "id": "-2uhPpmIF9EP",
        "outputId": "3e6a5fac-6832-4ac7-e9cf-1903a2a43f62"
      },
      "execution_count": 4,
      "outputs": [
        {
          "output_type": "execute_result",
          "data": {
            "text/plain": [
              "   no  Row_Num  Customer_ID Product  First_Transaction  Last_Transaction  \\\n",
              "0   1        1        29531   Jaket      1466304274396     1538718482608   \n",
              "1   2        2        29531  Sepatu      1406077331494     1545735761270   \n",
              "2   3        3       141526     Tas      1493349147000     1548322802000   \n",
              "3   4        4       141526   Jaket      1493362372547     1547643603911   \n",
              "4   5        5        37545  Sepatu      1429178498531     1542891221530   \n",
              "\n",
              "   Average_Transaction_Amount  Count_Transaction  \n",
              "0                     1467681                 22  \n",
              "1                     1269337                 41  \n",
              "2                      310915                 30  \n",
              "3                      722632                 27  \n",
              "4                     1775036                 25  "
            ],
            "text/html": [
              "\n",
              "  <div id=\"df-9bcb6518-89f1-415b-b0cb-23f8a66ab467\">\n",
              "    <div class=\"colab-df-container\">\n",
              "      <div>\n",
              "<style scoped>\n",
              "    .dataframe tbody tr th:only-of-type {\n",
              "        vertical-align: middle;\n",
              "    }\n",
              "\n",
              "    .dataframe tbody tr th {\n",
              "        vertical-align: top;\n",
              "    }\n",
              "\n",
              "    .dataframe thead th {\n",
              "        text-align: right;\n",
              "    }\n",
              "</style>\n",
              "<table border=\"1\" class=\"dataframe\">\n",
              "  <thead>\n",
              "    <tr style=\"text-align: right;\">\n",
              "      <th></th>\n",
              "      <th>no</th>\n",
              "      <th>Row_Num</th>\n",
              "      <th>Customer_ID</th>\n",
              "      <th>Product</th>\n",
              "      <th>First_Transaction</th>\n",
              "      <th>Last_Transaction</th>\n",
              "      <th>Average_Transaction_Amount</th>\n",
              "      <th>Count_Transaction</th>\n",
              "    </tr>\n",
              "  </thead>\n",
              "  <tbody>\n",
              "    <tr>\n",
              "      <th>0</th>\n",
              "      <td>1</td>\n",
              "      <td>1</td>\n",
              "      <td>29531</td>\n",
              "      <td>Jaket</td>\n",
              "      <td>1466304274396</td>\n",
              "      <td>1538718482608</td>\n",
              "      <td>1467681</td>\n",
              "      <td>22</td>\n",
              "    </tr>\n",
              "    <tr>\n",
              "      <th>1</th>\n",
              "      <td>2</td>\n",
              "      <td>2</td>\n",
              "      <td>29531</td>\n",
              "      <td>Sepatu</td>\n",
              "      <td>1406077331494</td>\n",
              "      <td>1545735761270</td>\n",
              "      <td>1269337</td>\n",
              "      <td>41</td>\n",
              "    </tr>\n",
              "    <tr>\n",
              "      <th>2</th>\n",
              "      <td>3</td>\n",
              "      <td>3</td>\n",
              "      <td>141526</td>\n",
              "      <td>Tas</td>\n",
              "      <td>1493349147000</td>\n",
              "      <td>1548322802000</td>\n",
              "      <td>310915</td>\n",
              "      <td>30</td>\n",
              "    </tr>\n",
              "    <tr>\n",
              "      <th>3</th>\n",
              "      <td>4</td>\n",
              "      <td>4</td>\n",
              "      <td>141526</td>\n",
              "      <td>Jaket</td>\n",
              "      <td>1493362372547</td>\n",
              "      <td>1547643603911</td>\n",
              "      <td>722632</td>\n",
              "      <td>27</td>\n",
              "    </tr>\n",
              "    <tr>\n",
              "      <th>4</th>\n",
              "      <td>5</td>\n",
              "      <td>5</td>\n",
              "      <td>37545</td>\n",
              "      <td>Sepatu</td>\n",
              "      <td>1429178498531</td>\n",
              "      <td>1542891221530</td>\n",
              "      <td>1775036</td>\n",
              "      <td>25</td>\n",
              "    </tr>\n",
              "  </tbody>\n",
              "</table>\n",
              "</div>\n",
              "      <button class=\"colab-df-convert\" onclick=\"convertToInteractive('df-9bcb6518-89f1-415b-b0cb-23f8a66ab467')\"\n",
              "              title=\"Convert this dataframe to an interactive table.\"\n",
              "              style=\"display:none;\">\n",
              "        \n",
              "  <svg xmlns=\"http://www.w3.org/2000/svg\" height=\"24px\"viewBox=\"0 0 24 24\"\n",
              "       width=\"24px\">\n",
              "    <path d=\"M0 0h24v24H0V0z\" fill=\"none\"/>\n",
              "    <path d=\"M18.56 5.44l.94 2.06.94-2.06 2.06-.94-2.06-.94-.94-2.06-.94 2.06-2.06.94zm-11 1L8.5 8.5l.94-2.06 2.06-.94-2.06-.94L8.5 2.5l-.94 2.06-2.06.94zm10 10l.94 2.06.94-2.06 2.06-.94-2.06-.94-.94-2.06-.94 2.06-2.06.94z\"/><path d=\"M17.41 7.96l-1.37-1.37c-.4-.4-.92-.59-1.43-.59-.52 0-1.04.2-1.43.59L10.3 9.45l-7.72 7.72c-.78.78-.78 2.05 0 2.83L4 21.41c.39.39.9.59 1.41.59.51 0 1.02-.2 1.41-.59l7.78-7.78 2.81-2.81c.8-.78.8-2.07 0-2.86zM5.41 20L4 18.59l7.72-7.72 1.47 1.35L5.41 20z\"/>\n",
              "  </svg>\n",
              "      </button>\n",
              "      \n",
              "  <style>\n",
              "    .colab-df-container {\n",
              "      display:flex;\n",
              "      flex-wrap:wrap;\n",
              "      gap: 12px;\n",
              "    }\n",
              "\n",
              "    .colab-df-convert {\n",
              "      background-color: #E8F0FE;\n",
              "      border: none;\n",
              "      border-radius: 50%;\n",
              "      cursor: pointer;\n",
              "      display: none;\n",
              "      fill: #1967D2;\n",
              "      height: 32px;\n",
              "      padding: 0 0 0 0;\n",
              "      width: 32px;\n",
              "    }\n",
              "\n",
              "    .colab-df-convert:hover {\n",
              "      background-color: #E2EBFA;\n",
              "      box-shadow: 0px 1px 2px rgba(60, 64, 67, 0.3), 0px 1px 3px 1px rgba(60, 64, 67, 0.15);\n",
              "      fill: #174EA6;\n",
              "    }\n",
              "\n",
              "    [theme=dark] .colab-df-convert {\n",
              "      background-color: #3B4455;\n",
              "      fill: #D2E3FC;\n",
              "    }\n",
              "\n",
              "    [theme=dark] .colab-df-convert:hover {\n",
              "      background-color: #434B5C;\n",
              "      box-shadow: 0px 1px 3px 1px rgba(0, 0, 0, 0.15);\n",
              "      filter: drop-shadow(0px 1px 2px rgba(0, 0, 0, 0.3));\n",
              "      fill: #FFFFFF;\n",
              "    }\n",
              "  </style>\n",
              "\n",
              "      <script>\n",
              "        const buttonEl =\n",
              "          document.querySelector('#df-9bcb6518-89f1-415b-b0cb-23f8a66ab467 button.colab-df-convert');\n",
              "        buttonEl.style.display =\n",
              "          google.colab.kernel.accessAllowed ? 'block' : 'none';\n",
              "\n",
              "        async function convertToInteractive(key) {\n",
              "          const element = document.querySelector('#df-9bcb6518-89f1-415b-b0cb-23f8a66ab467');\n",
              "          const dataTable =\n",
              "            await google.colab.kernel.invokeFunction('convertToInteractive',\n",
              "                                                     [key], {});\n",
              "          if (!dataTable) return;\n",
              "\n",
              "          const docLinkHtml = 'Like what you see? Visit the ' +\n",
              "            '<a target=\"_blank\" href=https://colab.research.google.com/notebooks/data_table.ipynb>data table notebook</a>'\n",
              "            + ' to learn more about interactive tables.';\n",
              "          element.innerHTML = '';\n",
              "          dataTable['output_type'] = 'display_data';\n",
              "          await google.colab.output.renderOutput(dataTable, element);\n",
              "          const docLink = document.createElement('div');\n",
              "          docLink.innerHTML = docLinkHtml;\n",
              "          element.appendChild(docLink);\n",
              "        }\n",
              "      </script>\n",
              "    </div>\n",
              "  </div>\n",
              "  "
            ]
          },
          "metadata": {},
          "execution_count": 4
        }
      ]
    },
    {
      "cell_type": "code",
      "source": [
        "df.info()"
      ],
      "metadata": {
        "colab": {
          "base_uri": "https://localhost:8080/"
        },
        "id": "iSBCfRU4GNWJ",
        "outputId": "880c9c8d-91c6-4c77-dd66-e67837f22f9e"
      },
      "execution_count": 5,
      "outputs": [
        {
          "output_type": "stream",
          "name": "stdout",
          "text": [
            "<class 'pandas.core.frame.DataFrame'>\n",
            "RangeIndex: 100000 entries, 0 to 99999\n",
            "Data columns (total 8 columns):\n",
            " #   Column                      Non-Null Count   Dtype \n",
            "---  ------                      --------------   ----- \n",
            " 0   no                          100000 non-null  int64 \n",
            " 1   Row_Num                     100000 non-null  int64 \n",
            " 2   Customer_ID                 100000 non-null  int64 \n",
            " 3   Product                     100000 non-null  object\n",
            " 4   First_Transaction           100000 non-null  int64 \n",
            " 5   Last_Transaction            100000 non-null  int64 \n",
            " 6   Average_Transaction_Amount  100000 non-null  int64 \n",
            " 7   Count_Transaction           100000 non-null  int64 \n",
            "dtypes: int64(7), object(1)\n",
            "memory usage: 6.1+ MB\n"
          ]
        }
      ]
    },
    {
      "cell_type": "markdown",
      "source": [
        "## Data Cleansing"
      ],
      "metadata": {
        "id": "DBdZPUfglDAi"
      }
    },
    {
      "cell_type": "markdown",
      "source": [
        "Ada 2 kolom yang seharusnya bertipe datetime, yaitu : First_Transaction dan Last_Transaction.\n",
        "1. Mengubah type data dari 2 kolom tersebut"
      ],
      "metadata": {
        "id": "N3QZK2GklFBw"
      }
    },
    {
      "cell_type": "code",
      "source": [
        "df.head()"
      ],
      "metadata": {
        "colab": {
          "base_uri": "https://localhost:8080/",
          "height": 206
        },
        "id": "phuP89FflIPo",
        "outputId": "31475183-f645-4b5d-ae38-20d10ead5812"
      },
      "execution_count": 6,
      "outputs": [
        {
          "output_type": "execute_result",
          "data": {
            "text/plain": [
              "   no  Row_Num  Customer_ID Product  First_Transaction  Last_Transaction  \\\n",
              "0   1        1        29531   Jaket      1466304274396     1538718482608   \n",
              "1   2        2        29531  Sepatu      1406077331494     1545735761270   \n",
              "2   3        3       141526     Tas      1493349147000     1548322802000   \n",
              "3   4        4       141526   Jaket      1493362372547     1547643603911   \n",
              "4   5        5        37545  Sepatu      1429178498531     1542891221530   \n",
              "\n",
              "   Average_Transaction_Amount  Count_Transaction  \n",
              "0                     1467681                 22  \n",
              "1                     1269337                 41  \n",
              "2                      310915                 30  \n",
              "3                      722632                 27  \n",
              "4                     1775036                 25  "
            ],
            "text/html": [
              "\n",
              "  <div id=\"df-a827a992-4065-49bc-8bf3-48bb7c9e5456\">\n",
              "    <div class=\"colab-df-container\">\n",
              "      <div>\n",
              "<style scoped>\n",
              "    .dataframe tbody tr th:only-of-type {\n",
              "        vertical-align: middle;\n",
              "    }\n",
              "\n",
              "    .dataframe tbody tr th {\n",
              "        vertical-align: top;\n",
              "    }\n",
              "\n",
              "    .dataframe thead th {\n",
              "        text-align: right;\n",
              "    }\n",
              "</style>\n",
              "<table border=\"1\" class=\"dataframe\">\n",
              "  <thead>\n",
              "    <tr style=\"text-align: right;\">\n",
              "      <th></th>\n",
              "      <th>no</th>\n",
              "      <th>Row_Num</th>\n",
              "      <th>Customer_ID</th>\n",
              "      <th>Product</th>\n",
              "      <th>First_Transaction</th>\n",
              "      <th>Last_Transaction</th>\n",
              "      <th>Average_Transaction_Amount</th>\n",
              "      <th>Count_Transaction</th>\n",
              "    </tr>\n",
              "  </thead>\n",
              "  <tbody>\n",
              "    <tr>\n",
              "      <th>0</th>\n",
              "      <td>1</td>\n",
              "      <td>1</td>\n",
              "      <td>29531</td>\n",
              "      <td>Jaket</td>\n",
              "      <td>1466304274396</td>\n",
              "      <td>1538718482608</td>\n",
              "      <td>1467681</td>\n",
              "      <td>22</td>\n",
              "    </tr>\n",
              "    <tr>\n",
              "      <th>1</th>\n",
              "      <td>2</td>\n",
              "      <td>2</td>\n",
              "      <td>29531</td>\n",
              "      <td>Sepatu</td>\n",
              "      <td>1406077331494</td>\n",
              "      <td>1545735761270</td>\n",
              "      <td>1269337</td>\n",
              "      <td>41</td>\n",
              "    </tr>\n",
              "    <tr>\n",
              "      <th>2</th>\n",
              "      <td>3</td>\n",
              "      <td>3</td>\n",
              "      <td>141526</td>\n",
              "      <td>Tas</td>\n",
              "      <td>1493349147000</td>\n",
              "      <td>1548322802000</td>\n",
              "      <td>310915</td>\n",
              "      <td>30</td>\n",
              "    </tr>\n",
              "    <tr>\n",
              "      <th>3</th>\n",
              "      <td>4</td>\n",
              "      <td>4</td>\n",
              "      <td>141526</td>\n",
              "      <td>Jaket</td>\n",
              "      <td>1493362372547</td>\n",
              "      <td>1547643603911</td>\n",
              "      <td>722632</td>\n",
              "      <td>27</td>\n",
              "    </tr>\n",
              "    <tr>\n",
              "      <th>4</th>\n",
              "      <td>5</td>\n",
              "      <td>5</td>\n",
              "      <td>37545</td>\n",
              "      <td>Sepatu</td>\n",
              "      <td>1429178498531</td>\n",
              "      <td>1542891221530</td>\n",
              "      <td>1775036</td>\n",
              "      <td>25</td>\n",
              "    </tr>\n",
              "  </tbody>\n",
              "</table>\n",
              "</div>\n",
              "      <button class=\"colab-df-convert\" onclick=\"convertToInteractive('df-a827a992-4065-49bc-8bf3-48bb7c9e5456')\"\n",
              "              title=\"Convert this dataframe to an interactive table.\"\n",
              "              style=\"display:none;\">\n",
              "        \n",
              "  <svg xmlns=\"http://www.w3.org/2000/svg\" height=\"24px\"viewBox=\"0 0 24 24\"\n",
              "       width=\"24px\">\n",
              "    <path d=\"M0 0h24v24H0V0z\" fill=\"none\"/>\n",
              "    <path d=\"M18.56 5.44l.94 2.06.94-2.06 2.06-.94-2.06-.94-.94-2.06-.94 2.06-2.06.94zm-11 1L8.5 8.5l.94-2.06 2.06-.94-2.06-.94L8.5 2.5l-.94 2.06-2.06.94zm10 10l.94 2.06.94-2.06 2.06-.94-2.06-.94-.94-2.06-.94 2.06-2.06.94z\"/><path d=\"M17.41 7.96l-1.37-1.37c-.4-.4-.92-.59-1.43-.59-.52 0-1.04.2-1.43.59L10.3 9.45l-7.72 7.72c-.78.78-.78 2.05 0 2.83L4 21.41c.39.39.9.59 1.41.59.51 0 1.02-.2 1.41-.59l7.78-7.78 2.81-2.81c.8-.78.8-2.07 0-2.86zM5.41 20L4 18.59l7.72-7.72 1.47 1.35L5.41 20z\"/>\n",
              "  </svg>\n",
              "      </button>\n",
              "      \n",
              "  <style>\n",
              "    .colab-df-container {\n",
              "      display:flex;\n",
              "      flex-wrap:wrap;\n",
              "      gap: 12px;\n",
              "    }\n",
              "\n",
              "    .colab-df-convert {\n",
              "      background-color: #E8F0FE;\n",
              "      border: none;\n",
              "      border-radius: 50%;\n",
              "      cursor: pointer;\n",
              "      display: none;\n",
              "      fill: #1967D2;\n",
              "      height: 32px;\n",
              "      padding: 0 0 0 0;\n",
              "      width: 32px;\n",
              "    }\n",
              "\n",
              "    .colab-df-convert:hover {\n",
              "      background-color: #E2EBFA;\n",
              "      box-shadow: 0px 1px 2px rgba(60, 64, 67, 0.3), 0px 1px 3px 1px rgba(60, 64, 67, 0.15);\n",
              "      fill: #174EA6;\n",
              "    }\n",
              "\n",
              "    [theme=dark] .colab-df-convert {\n",
              "      background-color: #3B4455;\n",
              "      fill: #D2E3FC;\n",
              "    }\n",
              "\n",
              "    [theme=dark] .colab-df-convert:hover {\n",
              "      background-color: #434B5C;\n",
              "      box-shadow: 0px 1px 3px 1px rgba(0, 0, 0, 0.15);\n",
              "      filter: drop-shadow(0px 1px 2px rgba(0, 0, 0, 0.3));\n",
              "      fill: #FFFFFF;\n",
              "    }\n",
              "  </style>\n",
              "\n",
              "      <script>\n",
              "        const buttonEl =\n",
              "          document.querySelector('#df-a827a992-4065-49bc-8bf3-48bb7c9e5456 button.colab-df-convert');\n",
              "        buttonEl.style.display =\n",
              "          google.colab.kernel.accessAllowed ? 'block' : 'none';\n",
              "\n",
              "        async function convertToInteractive(key) {\n",
              "          const element = document.querySelector('#df-a827a992-4065-49bc-8bf3-48bb7c9e5456');\n",
              "          const dataTable =\n",
              "            await google.colab.kernel.invokeFunction('convertToInteractive',\n",
              "                                                     [key], {});\n",
              "          if (!dataTable) return;\n",
              "\n",
              "          const docLinkHtml = 'Like what you see? Visit the ' +\n",
              "            '<a target=\"_blank\" href=https://colab.research.google.com/notebooks/data_table.ipynb>data table notebook</a>'\n",
              "            + ' to learn more about interactive tables.';\n",
              "          element.innerHTML = '';\n",
              "          dataTable['output_type'] = 'display_data';\n",
              "          await google.colab.output.renderOutput(dataTable, element);\n",
              "          const docLink = document.createElement('div');\n",
              "          docLink.innerHTML = docLinkHtml;\n",
              "          element.appendChild(docLink);\n",
              "        }\n",
              "      </script>\n",
              "    </div>\n",
              "  </div>\n",
              "  "
            ]
          },
          "metadata": {},
          "execution_count": 6
        }
      ]
    },
    {
      "cell_type": "code",
      "source": [
        "#Kolom First_Trans\n",
        "df['First_Transaction'] = pd.to_datetime(df['First_Transaction']/1000, unit ='s', origin = '1970-01-01')\n",
        "\n",
        "#Kolom Last_Trans\n",
        "df['Last_Transaction'] = pd.to_datetime(df['Last_Transaction']/1000, unit ='s', origin = '1970-01-01')"
      ],
      "metadata": {
        "id": "YQ4303cOlIx9"
      },
      "execution_count": 7,
      "outputs": []
    },
    {
      "cell_type": "code",
      "source": [
        "df.head()"
      ],
      "metadata": {
        "colab": {
          "base_uri": "https://localhost:8080/",
          "height": 206
        },
        "id": "c459E5-EmAW7",
        "outputId": "b000cce6-5e88-46eb-ddc8-199d2aa7f818"
      },
      "execution_count": 8,
      "outputs": [
        {
          "output_type": "execute_result",
          "data": {
            "text/plain": [
              "   no  Row_Num  Customer_ID Product             First_Transaction  \\\n",
              "0   1        1        29531   Jaket 2016-06-19 02:44:34.396000000   \n",
              "1   2        2        29531  Sepatu 2014-07-23 01:02:11.493999872   \n",
              "2   3        3       141526     Tas 2017-04-28 03:12:27.000000000   \n",
              "3   4        4       141526   Jaket 2017-04-28 06:52:52.546999808   \n",
              "4   5        5        37545  Sepatu 2015-04-16 10:01:38.530999808   \n",
              "\n",
              "               Last_Transaction  Average_Transaction_Amount  Count_Transaction  \n",
              "0 2018-10-05 05:48:02.608000000                     1467681                 22  \n",
              "1 2018-12-25 11:02:41.269999872                     1269337                 41  \n",
              "2 2019-01-24 09:40:02.000000000                      310915                 30  \n",
              "3 2019-01-16 13:00:03.911000064                      722632                 27  \n",
              "4 2018-11-22 12:53:41.529999872                     1775036                 25  "
            ],
            "text/html": [
              "\n",
              "  <div id=\"df-c5406ea7-56d6-4fc0-8b67-65d3fa79b7b5\">\n",
              "    <div class=\"colab-df-container\">\n",
              "      <div>\n",
              "<style scoped>\n",
              "    .dataframe tbody tr th:only-of-type {\n",
              "        vertical-align: middle;\n",
              "    }\n",
              "\n",
              "    .dataframe tbody tr th {\n",
              "        vertical-align: top;\n",
              "    }\n",
              "\n",
              "    .dataframe thead th {\n",
              "        text-align: right;\n",
              "    }\n",
              "</style>\n",
              "<table border=\"1\" class=\"dataframe\">\n",
              "  <thead>\n",
              "    <tr style=\"text-align: right;\">\n",
              "      <th></th>\n",
              "      <th>no</th>\n",
              "      <th>Row_Num</th>\n",
              "      <th>Customer_ID</th>\n",
              "      <th>Product</th>\n",
              "      <th>First_Transaction</th>\n",
              "      <th>Last_Transaction</th>\n",
              "      <th>Average_Transaction_Amount</th>\n",
              "      <th>Count_Transaction</th>\n",
              "    </tr>\n",
              "  </thead>\n",
              "  <tbody>\n",
              "    <tr>\n",
              "      <th>0</th>\n",
              "      <td>1</td>\n",
              "      <td>1</td>\n",
              "      <td>29531</td>\n",
              "      <td>Jaket</td>\n",
              "      <td>2016-06-19 02:44:34.396000000</td>\n",
              "      <td>2018-10-05 05:48:02.608000000</td>\n",
              "      <td>1467681</td>\n",
              "      <td>22</td>\n",
              "    </tr>\n",
              "    <tr>\n",
              "      <th>1</th>\n",
              "      <td>2</td>\n",
              "      <td>2</td>\n",
              "      <td>29531</td>\n",
              "      <td>Sepatu</td>\n",
              "      <td>2014-07-23 01:02:11.493999872</td>\n",
              "      <td>2018-12-25 11:02:41.269999872</td>\n",
              "      <td>1269337</td>\n",
              "      <td>41</td>\n",
              "    </tr>\n",
              "    <tr>\n",
              "      <th>2</th>\n",
              "      <td>3</td>\n",
              "      <td>3</td>\n",
              "      <td>141526</td>\n",
              "      <td>Tas</td>\n",
              "      <td>2017-04-28 03:12:27.000000000</td>\n",
              "      <td>2019-01-24 09:40:02.000000000</td>\n",
              "      <td>310915</td>\n",
              "      <td>30</td>\n",
              "    </tr>\n",
              "    <tr>\n",
              "      <th>3</th>\n",
              "      <td>4</td>\n",
              "      <td>4</td>\n",
              "      <td>141526</td>\n",
              "      <td>Jaket</td>\n",
              "      <td>2017-04-28 06:52:52.546999808</td>\n",
              "      <td>2019-01-16 13:00:03.911000064</td>\n",
              "      <td>722632</td>\n",
              "      <td>27</td>\n",
              "    </tr>\n",
              "    <tr>\n",
              "      <th>4</th>\n",
              "      <td>5</td>\n",
              "      <td>5</td>\n",
              "      <td>37545</td>\n",
              "      <td>Sepatu</td>\n",
              "      <td>2015-04-16 10:01:38.530999808</td>\n",
              "      <td>2018-11-22 12:53:41.529999872</td>\n",
              "      <td>1775036</td>\n",
              "      <td>25</td>\n",
              "    </tr>\n",
              "  </tbody>\n",
              "</table>\n",
              "</div>\n",
              "      <button class=\"colab-df-convert\" onclick=\"convertToInteractive('df-c5406ea7-56d6-4fc0-8b67-65d3fa79b7b5')\"\n",
              "              title=\"Convert this dataframe to an interactive table.\"\n",
              "              style=\"display:none;\">\n",
              "        \n",
              "  <svg xmlns=\"http://www.w3.org/2000/svg\" height=\"24px\"viewBox=\"0 0 24 24\"\n",
              "       width=\"24px\">\n",
              "    <path d=\"M0 0h24v24H0V0z\" fill=\"none\"/>\n",
              "    <path d=\"M18.56 5.44l.94 2.06.94-2.06 2.06-.94-2.06-.94-.94-2.06-.94 2.06-2.06.94zm-11 1L8.5 8.5l.94-2.06 2.06-.94-2.06-.94L8.5 2.5l-.94 2.06-2.06.94zm10 10l.94 2.06.94-2.06 2.06-.94-2.06-.94-.94-2.06-.94 2.06-2.06.94z\"/><path d=\"M17.41 7.96l-1.37-1.37c-.4-.4-.92-.59-1.43-.59-.52 0-1.04.2-1.43.59L10.3 9.45l-7.72 7.72c-.78.78-.78 2.05 0 2.83L4 21.41c.39.39.9.59 1.41.59.51 0 1.02-.2 1.41-.59l7.78-7.78 2.81-2.81c.8-.78.8-2.07 0-2.86zM5.41 20L4 18.59l7.72-7.72 1.47 1.35L5.41 20z\"/>\n",
              "  </svg>\n",
              "      </button>\n",
              "      \n",
              "  <style>\n",
              "    .colab-df-container {\n",
              "      display:flex;\n",
              "      flex-wrap:wrap;\n",
              "      gap: 12px;\n",
              "    }\n",
              "\n",
              "    .colab-df-convert {\n",
              "      background-color: #E8F0FE;\n",
              "      border: none;\n",
              "      border-radius: 50%;\n",
              "      cursor: pointer;\n",
              "      display: none;\n",
              "      fill: #1967D2;\n",
              "      height: 32px;\n",
              "      padding: 0 0 0 0;\n",
              "      width: 32px;\n",
              "    }\n",
              "\n",
              "    .colab-df-convert:hover {\n",
              "      background-color: #E2EBFA;\n",
              "      box-shadow: 0px 1px 2px rgba(60, 64, 67, 0.3), 0px 1px 3px 1px rgba(60, 64, 67, 0.15);\n",
              "      fill: #174EA6;\n",
              "    }\n",
              "\n",
              "    [theme=dark] .colab-df-convert {\n",
              "      background-color: #3B4455;\n",
              "      fill: #D2E3FC;\n",
              "    }\n",
              "\n",
              "    [theme=dark] .colab-df-convert:hover {\n",
              "      background-color: #434B5C;\n",
              "      box-shadow: 0px 1px 3px 1px rgba(0, 0, 0, 0.15);\n",
              "      filter: drop-shadow(0px 1px 2px rgba(0, 0, 0, 0.3));\n",
              "      fill: #FFFFFF;\n",
              "    }\n",
              "  </style>\n",
              "\n",
              "      <script>\n",
              "        const buttonEl =\n",
              "          document.querySelector('#df-c5406ea7-56d6-4fc0-8b67-65d3fa79b7b5 button.colab-df-convert');\n",
              "        buttonEl.style.display =\n",
              "          google.colab.kernel.accessAllowed ? 'block' : 'none';\n",
              "\n",
              "        async function convertToInteractive(key) {\n",
              "          const element = document.querySelector('#df-c5406ea7-56d6-4fc0-8b67-65d3fa79b7b5');\n",
              "          const dataTable =\n",
              "            await google.colab.kernel.invokeFunction('convertToInteractive',\n",
              "                                                     [key], {});\n",
              "          if (!dataTable) return;\n",
              "\n",
              "          const docLinkHtml = 'Like what you see? Visit the ' +\n",
              "            '<a target=\"_blank\" href=https://colab.research.google.com/notebooks/data_table.ipynb>data table notebook</a>'\n",
              "            + ' to learn more about interactive tables.';\n",
              "          element.innerHTML = '';\n",
              "          dataTable['output_type'] = 'display_data';\n",
              "          await google.colab.output.renderOutput(dataTable, element);\n",
              "          const docLink = document.createElement('div');\n",
              "          docLink.innerHTML = docLinkHtml;\n",
              "          element.appendChild(docLink);\n",
              "        }\n",
              "      </script>\n",
              "    </div>\n",
              "  </div>\n",
              "  "
            ]
          },
          "metadata": {},
          "execution_count": 8
        }
      ]
    },
    {
      "cell_type": "markdown",
      "source": [
        "### Churn Customer"
      ],
      "metadata": {
        "id": "vqWCSoOJnHbN"
      }
    },
    {
      "cell_type": "markdown",
      "source": [
        "Customer churn, juga dikenal sebagai atrisi pelanggan, adalah persentase pelanggan yang berhenti menggunakan produk dan layanan bisnis selama jangka waktu tertentu\n",
        "\n",
        "Untuk menentukan churn customers sesuai definisi yang telah diberikan, carilah\n",
        "\n",
        "1. transaksi paling terakhir kapan dilakukan\n",
        "2. klasifikasikanlah mana customer yang berstatus churn dan mana yang tidak."
      ],
      "metadata": {
        "id": "qKl7p19WnJgA"
      }
    },
    {
      "cell_type": "code",
      "source": [
        "# Mengecek transaksi terakhir\n",
        "max(df['Last_Transaction'])"
      ],
      "metadata": {
        "colab": {
          "base_uri": "https://localhost:8080/"
        },
        "id": "SdeKY6nEmA9t",
        "outputId": "3df2e080-bbfe-452e-a095-d5b9bda14f40"
      },
      "execution_count": 9,
      "outputs": [
        {
          "output_type": "execute_result",
          "data": {
            "text/plain": [
              "Timestamp('2019-02-01 23:57:57.286000128')"
            ]
          },
          "metadata": {},
          "execution_count": 9
        }
      ]
    },
    {
      "cell_type": "code",
      "source": [
        "#Mencari customer yang berstatus churn atau tidak dengan boolean, lalu membuat kolom baru bernama 'is_churn'\n",
        "df.loc[df['Last_Transaction'] <= '2018-08-01', 'is_churn'] = True\n",
        "df.loc[df['Last_Transaction'] > '2018-08-01', 'is_churn'] = False"
      ],
      "metadata": {
        "id": "tVPq5BIYngxs"
      },
      "execution_count": 10,
      "outputs": []
    },
    {
      "cell_type": "code",
      "source": [
        "df.head()"
      ],
      "metadata": {
        "colab": {
          "base_uri": "https://localhost:8080/",
          "height": 206
        },
        "id": "Q7D4IymsoZpo",
        "outputId": "a040cb57-c6ea-4df2-e280-345c28162d93"
      },
      "execution_count": 11,
      "outputs": [
        {
          "output_type": "execute_result",
          "data": {
            "text/plain": [
              "   no  Row_Num  Customer_ID Product             First_Transaction  \\\n",
              "0   1        1        29531   Jaket 2016-06-19 02:44:34.396000000   \n",
              "1   2        2        29531  Sepatu 2014-07-23 01:02:11.493999872   \n",
              "2   3        3       141526     Tas 2017-04-28 03:12:27.000000000   \n",
              "3   4        4       141526   Jaket 2017-04-28 06:52:52.546999808   \n",
              "4   5        5        37545  Sepatu 2015-04-16 10:01:38.530999808   \n",
              "\n",
              "               Last_Transaction  Average_Transaction_Amount  \\\n",
              "0 2018-10-05 05:48:02.608000000                     1467681   \n",
              "1 2018-12-25 11:02:41.269999872                     1269337   \n",
              "2 2019-01-24 09:40:02.000000000                      310915   \n",
              "3 2019-01-16 13:00:03.911000064                      722632   \n",
              "4 2018-11-22 12:53:41.529999872                     1775036   \n",
              "\n",
              "   Count_Transaction is_churn  \n",
              "0                 22    False  \n",
              "1                 41    False  \n",
              "2                 30    False  \n",
              "3                 27    False  \n",
              "4                 25    False  "
            ],
            "text/html": [
              "\n",
              "  <div id=\"df-f929de7a-18eb-4ca0-bb38-72edc75599e0\">\n",
              "    <div class=\"colab-df-container\">\n",
              "      <div>\n",
              "<style scoped>\n",
              "    .dataframe tbody tr th:only-of-type {\n",
              "        vertical-align: middle;\n",
              "    }\n",
              "\n",
              "    .dataframe tbody tr th {\n",
              "        vertical-align: top;\n",
              "    }\n",
              "\n",
              "    .dataframe thead th {\n",
              "        text-align: right;\n",
              "    }\n",
              "</style>\n",
              "<table border=\"1\" class=\"dataframe\">\n",
              "  <thead>\n",
              "    <tr style=\"text-align: right;\">\n",
              "      <th></th>\n",
              "      <th>no</th>\n",
              "      <th>Row_Num</th>\n",
              "      <th>Customer_ID</th>\n",
              "      <th>Product</th>\n",
              "      <th>First_Transaction</th>\n",
              "      <th>Last_Transaction</th>\n",
              "      <th>Average_Transaction_Amount</th>\n",
              "      <th>Count_Transaction</th>\n",
              "      <th>is_churn</th>\n",
              "    </tr>\n",
              "  </thead>\n",
              "  <tbody>\n",
              "    <tr>\n",
              "      <th>0</th>\n",
              "      <td>1</td>\n",
              "      <td>1</td>\n",
              "      <td>29531</td>\n",
              "      <td>Jaket</td>\n",
              "      <td>2016-06-19 02:44:34.396000000</td>\n",
              "      <td>2018-10-05 05:48:02.608000000</td>\n",
              "      <td>1467681</td>\n",
              "      <td>22</td>\n",
              "      <td>False</td>\n",
              "    </tr>\n",
              "    <tr>\n",
              "      <th>1</th>\n",
              "      <td>2</td>\n",
              "      <td>2</td>\n",
              "      <td>29531</td>\n",
              "      <td>Sepatu</td>\n",
              "      <td>2014-07-23 01:02:11.493999872</td>\n",
              "      <td>2018-12-25 11:02:41.269999872</td>\n",
              "      <td>1269337</td>\n",
              "      <td>41</td>\n",
              "      <td>False</td>\n",
              "    </tr>\n",
              "    <tr>\n",
              "      <th>2</th>\n",
              "      <td>3</td>\n",
              "      <td>3</td>\n",
              "      <td>141526</td>\n",
              "      <td>Tas</td>\n",
              "      <td>2017-04-28 03:12:27.000000000</td>\n",
              "      <td>2019-01-24 09:40:02.000000000</td>\n",
              "      <td>310915</td>\n",
              "      <td>30</td>\n",
              "      <td>False</td>\n",
              "    </tr>\n",
              "    <tr>\n",
              "      <th>3</th>\n",
              "      <td>4</td>\n",
              "      <td>4</td>\n",
              "      <td>141526</td>\n",
              "      <td>Jaket</td>\n",
              "      <td>2017-04-28 06:52:52.546999808</td>\n",
              "      <td>2019-01-16 13:00:03.911000064</td>\n",
              "      <td>722632</td>\n",
              "      <td>27</td>\n",
              "      <td>False</td>\n",
              "    </tr>\n",
              "    <tr>\n",
              "      <th>4</th>\n",
              "      <td>5</td>\n",
              "      <td>5</td>\n",
              "      <td>37545</td>\n",
              "      <td>Sepatu</td>\n",
              "      <td>2015-04-16 10:01:38.530999808</td>\n",
              "      <td>2018-11-22 12:53:41.529999872</td>\n",
              "      <td>1775036</td>\n",
              "      <td>25</td>\n",
              "      <td>False</td>\n",
              "    </tr>\n",
              "  </tbody>\n",
              "</table>\n",
              "</div>\n",
              "      <button class=\"colab-df-convert\" onclick=\"convertToInteractive('df-f929de7a-18eb-4ca0-bb38-72edc75599e0')\"\n",
              "              title=\"Convert this dataframe to an interactive table.\"\n",
              "              style=\"display:none;\">\n",
              "        \n",
              "  <svg xmlns=\"http://www.w3.org/2000/svg\" height=\"24px\"viewBox=\"0 0 24 24\"\n",
              "       width=\"24px\">\n",
              "    <path d=\"M0 0h24v24H0V0z\" fill=\"none\"/>\n",
              "    <path d=\"M18.56 5.44l.94 2.06.94-2.06 2.06-.94-2.06-.94-.94-2.06-.94 2.06-2.06.94zm-11 1L8.5 8.5l.94-2.06 2.06-.94-2.06-.94L8.5 2.5l-.94 2.06-2.06.94zm10 10l.94 2.06.94-2.06 2.06-.94-2.06-.94-.94-2.06-.94 2.06-2.06.94z\"/><path d=\"M17.41 7.96l-1.37-1.37c-.4-.4-.92-.59-1.43-.59-.52 0-1.04.2-1.43.59L10.3 9.45l-7.72 7.72c-.78.78-.78 2.05 0 2.83L4 21.41c.39.39.9.59 1.41.59.51 0 1.02-.2 1.41-.59l7.78-7.78 2.81-2.81c.8-.78.8-2.07 0-2.86zM5.41 20L4 18.59l7.72-7.72 1.47 1.35L5.41 20z\"/>\n",
              "  </svg>\n",
              "      </button>\n",
              "      \n",
              "  <style>\n",
              "    .colab-df-container {\n",
              "      display:flex;\n",
              "      flex-wrap:wrap;\n",
              "      gap: 12px;\n",
              "    }\n",
              "\n",
              "    .colab-df-convert {\n",
              "      background-color: #E8F0FE;\n",
              "      border: none;\n",
              "      border-radius: 50%;\n",
              "      cursor: pointer;\n",
              "      display: none;\n",
              "      fill: #1967D2;\n",
              "      height: 32px;\n",
              "      padding: 0 0 0 0;\n",
              "      width: 32px;\n",
              "    }\n",
              "\n",
              "    .colab-df-convert:hover {\n",
              "      background-color: #E2EBFA;\n",
              "      box-shadow: 0px 1px 2px rgba(60, 64, 67, 0.3), 0px 1px 3px 1px rgba(60, 64, 67, 0.15);\n",
              "      fill: #174EA6;\n",
              "    }\n",
              "\n",
              "    [theme=dark] .colab-df-convert {\n",
              "      background-color: #3B4455;\n",
              "      fill: #D2E3FC;\n",
              "    }\n",
              "\n",
              "    [theme=dark] .colab-df-convert:hover {\n",
              "      background-color: #434B5C;\n",
              "      box-shadow: 0px 1px 3px 1px rgba(0, 0, 0, 0.15);\n",
              "      filter: drop-shadow(0px 1px 2px rgba(0, 0, 0, 0.3));\n",
              "      fill: #FFFFFF;\n",
              "    }\n",
              "  </style>\n",
              "\n",
              "      <script>\n",
              "        const buttonEl =\n",
              "          document.querySelector('#df-f929de7a-18eb-4ca0-bb38-72edc75599e0 button.colab-df-convert');\n",
              "        buttonEl.style.display =\n",
              "          google.colab.kernel.accessAllowed ? 'block' : 'none';\n",
              "\n",
              "        async function convertToInteractive(key) {\n",
              "          const element = document.querySelector('#df-f929de7a-18eb-4ca0-bb38-72edc75599e0');\n",
              "          const dataTable =\n",
              "            await google.colab.kernel.invokeFunction('convertToInteractive',\n",
              "                                                     [key], {});\n",
              "          if (!dataTable) return;\n",
              "\n",
              "          const docLinkHtml = 'Like what you see? Visit the ' +\n",
              "            '<a target=\"_blank\" href=https://colab.research.google.com/notebooks/data_table.ipynb>data table notebook</a>'\n",
              "            + ' to learn more about interactive tables.';\n",
              "          element.innerHTML = '';\n",
              "          dataTable['output_type'] = 'display_data';\n",
              "          await google.colab.output.renderOutput(dataTable, element);\n",
              "          const docLink = document.createElement('div');\n",
              "          docLink.innerHTML = docLinkHtml;\n",
              "          element.appendChild(docLink);\n",
              "        }\n",
              "      </script>\n",
              "    </div>\n",
              "  </div>\n",
              "  "
            ]
          },
          "metadata": {},
          "execution_count": 11
        }
      ]
    },
    {
      "cell_type": "markdown",
      "source": [
        "Kemudian, untuk memudahkan dalam pengambilan keputusan kita bisa menggunakan syntax df[‘is_churn’] untuk mengklasifikasikan manakah customer yang termasuk customer churn atau tidak dengan logika ‘TRUE’ and ‘FALSE’\n",
        "\n",
        "TRUE = konsumen yang melakukan transaksi terakhir kurang dari tanggal 01 Agustus 2018\n",
        "\n",
        "FALSE = konsumen yang melakukan transaksi terakhir lebih dari tanggal 01 Agustus 2018"
      ],
      "metadata": {
        "id": "p-Ti6Ba8oxBB"
      }
    },
    {
      "cell_type": "markdown",
      "source": [
        "### Label Encoding"
      ],
      "metadata": {
        "id": "kltmVz1xo9gL"
      }
    },
    {
      "cell_type": "markdown",
      "source": [
        "Mengubah value kolom is_churn menjadi nilai numerik dengan menggunakan Label Encoder. Hal ini dilakukan agar nantinya ketika masuk ke bagian Data Visualization dapat mengetahui proporsi customer churn setiap kategori produknya."
      ],
      "metadata": {
        "id": "DAIWu1zFpBQo"
      }
    },
    {
      "cell_type": "code",
      "source": [
        "import numpy as np\n",
        "from sklearn.preprocessing import LabelEncoder"
      ],
      "metadata": {
        "id": "2l-UWGK5o0Dg"
      },
      "execution_count": 12,
      "outputs": []
    },
    {
      "cell_type": "code",
      "source": [
        "LE = LabelEncoder()\n",
        "df['is_churn'] = LE.fit_transform(df['is_churn'])\n",
        "LE.classes_\n",
        "print(np.sort(df['is_churn'].unique()))"
      ],
      "metadata": {
        "colab": {
          "base_uri": "https://localhost:8080/"
        },
        "id": "u1Og-0vXp1br",
        "outputId": "931506ec-f4e8-48c2-9042-1c706fe25287"
      },
      "execution_count": 13,
      "outputs": [
        {
          "output_type": "stream",
          "name": "stdout",
          "text": [
            "[0 1]\n"
          ]
        }
      ]
    },
    {
      "cell_type": "markdown",
      "source": [
        "Sehingga, berdasarkan outputnya terlihat angka 0 diwakili logika False (bukan customer churn) dan angka 1 diwakili logika True yang artinya tergolong customer churn."
      ],
      "metadata": {
        "id": "J1UyK-N_qaV5"
      }
    },
    {
      "cell_type": "markdown",
      "source": [
        "### Menghapus Kolom Yang Tidak Diperlukan\n",
        "Selanjutnya, kita akan menghapus kolom yang tidak diperlukan yaitu kolom ‘no’ dan ‘Row_Num’"
      ],
      "metadata": {
        "id": "a_bYYgdvqmtZ"
      }
    },
    {
      "cell_type": "code",
      "source": [
        "del df['no']\n",
        "del df['Row_Num']"
      ],
      "metadata": {
        "id": "V07aTAP_qp17"
      },
      "execution_count": 14,
      "outputs": []
    },
    {
      "cell_type": "markdown",
      "source": [
        "# Coding Test: Data Visualization\n",
        "Membuat visualisasi data berupa trend of customer acquisition by year dengan menggunakan bar chart. Untuk itu kita buat feature/kolom tambahan yang merupakan tahun dari First_Transaction dan tahun dari Last_Transaction masing-masingnya dengan nama Year_First_Transaction dan Year_Last_Transaction sebelum melakukan visualisasi."
      ],
      "metadata": {
        "id": "MCdGPBwGrOXY"
      }
    },
    {
      "cell_type": "code",
      "source": [
        "import matplotlib.pyplot as plt\n",
        "#Membuat kolom baru yang berisi tahun transaksi pertama dan akhir \n",
        "#Kolom tahun transaksi pertama\n",
        "df['Year_First_Transaction'] = df['First_Transaction'].dt.year\n",
        "\n",
        "#Kolom tahun Transaksi terakhir\n",
        "df['Year_Last_Transaction'] = df['Last_Transaction'].dt.year"
      ],
      "metadata": {
        "id": "a4P2n0E3rXSt"
      },
      "execution_count": 15,
      "outputs": []
    },
    {
      "cell_type": "code",
      "source": [
        "df.head()"
      ],
      "metadata": {
        "colab": {
          "base_uri": "https://localhost:8080/",
          "height": 337
        },
        "id": "7wlm2dWJsip6",
        "outputId": "efba7c4f-d8d2-4c5c-ef38-d4d0162126e5"
      },
      "execution_count": 16,
      "outputs": [
        {
          "output_type": "execute_result",
          "data": {
            "text/plain": [
              "   Customer_ID Product             First_Transaction  \\\n",
              "0        29531   Jaket 2016-06-19 02:44:34.396000000   \n",
              "1        29531  Sepatu 2014-07-23 01:02:11.493999872   \n",
              "2       141526     Tas 2017-04-28 03:12:27.000000000   \n",
              "3       141526   Jaket 2017-04-28 06:52:52.546999808   \n",
              "4        37545  Sepatu 2015-04-16 10:01:38.530999808   \n",
              "\n",
              "               Last_Transaction  Average_Transaction_Amount  \\\n",
              "0 2018-10-05 05:48:02.608000000                     1467681   \n",
              "1 2018-12-25 11:02:41.269999872                     1269337   \n",
              "2 2019-01-24 09:40:02.000000000                      310915   \n",
              "3 2019-01-16 13:00:03.911000064                      722632   \n",
              "4 2018-11-22 12:53:41.529999872                     1775036   \n",
              "\n",
              "   Count_Transaction  is_churn  Year_First_Transaction  Year_Last_Transaction  \n",
              "0                 22         0                    2016                   2018  \n",
              "1                 41         0                    2014                   2018  \n",
              "2                 30         0                    2017                   2019  \n",
              "3                 27         0                    2017                   2019  \n",
              "4                 25         0                    2015                   2018  "
            ],
            "text/html": [
              "\n",
              "  <div id=\"df-a94e7033-9990-485d-9dee-e364ba528e73\">\n",
              "    <div class=\"colab-df-container\">\n",
              "      <div>\n",
              "<style scoped>\n",
              "    .dataframe tbody tr th:only-of-type {\n",
              "        vertical-align: middle;\n",
              "    }\n",
              "\n",
              "    .dataframe tbody tr th {\n",
              "        vertical-align: top;\n",
              "    }\n",
              "\n",
              "    .dataframe thead th {\n",
              "        text-align: right;\n",
              "    }\n",
              "</style>\n",
              "<table border=\"1\" class=\"dataframe\">\n",
              "  <thead>\n",
              "    <tr style=\"text-align: right;\">\n",
              "      <th></th>\n",
              "      <th>Customer_ID</th>\n",
              "      <th>Product</th>\n",
              "      <th>First_Transaction</th>\n",
              "      <th>Last_Transaction</th>\n",
              "      <th>Average_Transaction_Amount</th>\n",
              "      <th>Count_Transaction</th>\n",
              "      <th>is_churn</th>\n",
              "      <th>Year_First_Transaction</th>\n",
              "      <th>Year_Last_Transaction</th>\n",
              "    </tr>\n",
              "  </thead>\n",
              "  <tbody>\n",
              "    <tr>\n",
              "      <th>0</th>\n",
              "      <td>29531</td>\n",
              "      <td>Jaket</td>\n",
              "      <td>2016-06-19 02:44:34.396000000</td>\n",
              "      <td>2018-10-05 05:48:02.608000000</td>\n",
              "      <td>1467681</td>\n",
              "      <td>22</td>\n",
              "      <td>0</td>\n",
              "      <td>2016</td>\n",
              "      <td>2018</td>\n",
              "    </tr>\n",
              "    <tr>\n",
              "      <th>1</th>\n",
              "      <td>29531</td>\n",
              "      <td>Sepatu</td>\n",
              "      <td>2014-07-23 01:02:11.493999872</td>\n",
              "      <td>2018-12-25 11:02:41.269999872</td>\n",
              "      <td>1269337</td>\n",
              "      <td>41</td>\n",
              "      <td>0</td>\n",
              "      <td>2014</td>\n",
              "      <td>2018</td>\n",
              "    </tr>\n",
              "    <tr>\n",
              "      <th>2</th>\n",
              "      <td>141526</td>\n",
              "      <td>Tas</td>\n",
              "      <td>2017-04-28 03:12:27.000000000</td>\n",
              "      <td>2019-01-24 09:40:02.000000000</td>\n",
              "      <td>310915</td>\n",
              "      <td>30</td>\n",
              "      <td>0</td>\n",
              "      <td>2017</td>\n",
              "      <td>2019</td>\n",
              "    </tr>\n",
              "    <tr>\n",
              "      <th>3</th>\n",
              "      <td>141526</td>\n",
              "      <td>Jaket</td>\n",
              "      <td>2017-04-28 06:52:52.546999808</td>\n",
              "      <td>2019-01-16 13:00:03.911000064</td>\n",
              "      <td>722632</td>\n",
              "      <td>27</td>\n",
              "      <td>0</td>\n",
              "      <td>2017</td>\n",
              "      <td>2019</td>\n",
              "    </tr>\n",
              "    <tr>\n",
              "      <th>4</th>\n",
              "      <td>37545</td>\n",
              "      <td>Sepatu</td>\n",
              "      <td>2015-04-16 10:01:38.530999808</td>\n",
              "      <td>2018-11-22 12:53:41.529999872</td>\n",
              "      <td>1775036</td>\n",
              "      <td>25</td>\n",
              "      <td>0</td>\n",
              "      <td>2015</td>\n",
              "      <td>2018</td>\n",
              "    </tr>\n",
              "  </tbody>\n",
              "</table>\n",
              "</div>\n",
              "      <button class=\"colab-df-convert\" onclick=\"convertToInteractive('df-a94e7033-9990-485d-9dee-e364ba528e73')\"\n",
              "              title=\"Convert this dataframe to an interactive table.\"\n",
              "              style=\"display:none;\">\n",
              "        \n",
              "  <svg xmlns=\"http://www.w3.org/2000/svg\" height=\"24px\"viewBox=\"0 0 24 24\"\n",
              "       width=\"24px\">\n",
              "    <path d=\"M0 0h24v24H0V0z\" fill=\"none\"/>\n",
              "    <path d=\"M18.56 5.44l.94 2.06.94-2.06 2.06-.94-2.06-.94-.94-2.06-.94 2.06-2.06.94zm-11 1L8.5 8.5l.94-2.06 2.06-.94-2.06-.94L8.5 2.5l-.94 2.06-2.06.94zm10 10l.94 2.06.94-2.06 2.06-.94-2.06-.94-.94-2.06-.94 2.06-2.06.94z\"/><path d=\"M17.41 7.96l-1.37-1.37c-.4-.4-.92-.59-1.43-.59-.52 0-1.04.2-1.43.59L10.3 9.45l-7.72 7.72c-.78.78-.78 2.05 0 2.83L4 21.41c.39.39.9.59 1.41.59.51 0 1.02-.2 1.41-.59l7.78-7.78 2.81-2.81c.8-.78.8-2.07 0-2.86zM5.41 20L4 18.59l7.72-7.72 1.47 1.35L5.41 20z\"/>\n",
              "  </svg>\n",
              "      </button>\n",
              "      \n",
              "  <style>\n",
              "    .colab-df-container {\n",
              "      display:flex;\n",
              "      flex-wrap:wrap;\n",
              "      gap: 12px;\n",
              "    }\n",
              "\n",
              "    .colab-df-convert {\n",
              "      background-color: #E8F0FE;\n",
              "      border: none;\n",
              "      border-radius: 50%;\n",
              "      cursor: pointer;\n",
              "      display: none;\n",
              "      fill: #1967D2;\n",
              "      height: 32px;\n",
              "      padding: 0 0 0 0;\n",
              "      width: 32px;\n",
              "    }\n",
              "\n",
              "    .colab-df-convert:hover {\n",
              "      background-color: #E2EBFA;\n",
              "      box-shadow: 0px 1px 2px rgba(60, 64, 67, 0.3), 0px 1px 3px 1px rgba(60, 64, 67, 0.15);\n",
              "      fill: #174EA6;\n",
              "    }\n",
              "\n",
              "    [theme=dark] .colab-df-convert {\n",
              "      background-color: #3B4455;\n",
              "      fill: #D2E3FC;\n",
              "    }\n",
              "\n",
              "    [theme=dark] .colab-df-convert:hover {\n",
              "      background-color: #434B5C;\n",
              "      box-shadow: 0px 1px 3px 1px rgba(0, 0, 0, 0.15);\n",
              "      filter: drop-shadow(0px 1px 2px rgba(0, 0, 0, 0.3));\n",
              "      fill: #FFFFFF;\n",
              "    }\n",
              "  </style>\n",
              "\n",
              "      <script>\n",
              "        const buttonEl =\n",
              "          document.querySelector('#df-a94e7033-9990-485d-9dee-e364ba528e73 button.colab-df-convert');\n",
              "        buttonEl.style.display =\n",
              "          google.colab.kernel.accessAllowed ? 'block' : 'none';\n",
              "\n",
              "        async function convertToInteractive(key) {\n",
              "          const element = document.querySelector('#df-a94e7033-9990-485d-9dee-e364ba528e73');\n",
              "          const dataTable =\n",
              "            await google.colab.kernel.invokeFunction('convertToInteractive',\n",
              "                                                     [key], {});\n",
              "          if (!dataTable) return;\n",
              "\n",
              "          const docLinkHtml = 'Like what you see? Visit the ' +\n",
              "            '<a target=\"_blank\" href=https://colab.research.google.com/notebooks/data_table.ipynb>data table notebook</a>'\n",
              "            + ' to learn more about interactive tables.';\n",
              "          element.innerHTML = '';\n",
              "          dataTable['output_type'] = 'display_data';\n",
              "          await google.colab.output.renderOutput(dataTable, element);\n",
              "          const docLink = document.createElement('div');\n",
              "          docLink.innerHTML = docLinkHtml;\n",
              "          element.appendChild(docLink);\n",
              "        }\n",
              "      </script>\n",
              "    </div>\n",
              "  </div>\n",
              "  "
            ]
          },
          "metadata": {},
          "execution_count": 16
        }
      ]
    },
    {
      "cell_type": "markdown",
      "source": [
        "##Customer acquisition by year"
      ],
      "metadata": {
        "id": "1HyR5ycQvERq"
      }
    },
    {
      "cell_type": "code",
      "source": [
        "df_year = df.groupby(['Year_First_Transaction'])['Customer_ID'].count()\n",
        "df_year.plot(x = 'Year_First_Transaction', y = 'Customer_ID', kind = 'bar', title = 'Graph Customer Acquisition')\n",
        "\n",
        "plt.xlabel('Year of First Transaction')\n",
        "plt.ylabel('Jumlah Kustomer')\n",
        "plt.show()"
      ],
      "metadata": {
        "colab": {
          "base_uri": "https://localhost:8080/",
          "height": 311
        },
        "id": "mzQVE0CVsxCJ",
        "outputId": "44e379c1-ac91-4a01-efc0-a468ff2ea8ac"
      },
      "execution_count": 17,
      "outputs": [
        {
          "output_type": "display_data",
          "data": {
            "text/plain": [
              "<Figure size 432x288 with 1 Axes>"
            ],
            "image/png": "[encoded data removed]"
          },
          "metadata": {
            "needs_background": "light"
          }
        }
      ]
    },
    {
      "cell_type": "markdown",
      "source": [
        "Customer acquisition adalah proses penarikan pelanggan ke layanan yang kamu tawarkan atau pelanggan pertama kali ber transaksi. \n",
        "\n",
        "Proses ini sangat berguna, terutama untuk perkembangan bisnismu dalam jangka panjang\n",
        "\n",
        "1. Berdasarkan visualisasi bar chart, dapat disimpulkan bahwa number of customer tertinggi diraih pada tahun 2017 sebesar 30000. Sedangkan yang memiliki number of customer terendah terjadi pada tahun 2013."
      ],
      "metadata": {
        "id": "6JSDD9btum2X"
      }
    },
    {
      "cell_type": "markdown",
      "source": [
        "##Transaction by Year\n",
        "Visualisasikanlah trend jumlah transaksi per tahunnya dengan menggunakan bar chart."
      ],
      "metadata": {
        "id": "mXHwpqUkvG6E"
      }
    },
    {
      "cell_type": "code",
      "source": [
        "plt.clf()\n",
        "df_year = df.groupby(['Year_First_Transaction'])['Count_Transaction'].sum()\n",
        "df_year.plot(x = 'Year_First_Transaction', y = 'Count_Transaction', kind = 'bar', title = 'Graph of Transaction Customer')\n",
        "\n",
        "plt.xlabel('Tahun Transaksi')\n",
        "plt.ylabel('Jumlah Transaksi')\n",
        "plt.show()"
      ],
      "metadata": {
        "colab": {
          "base_uri": "https://localhost:8080/",
          "height": 311
        },
        "id": "LKeIl9wGutK6",
        "outputId": "955fcb61-aef6-4d05-e225-84701768de75"
      },
      "execution_count": 18,
      "outputs": [
        {
          "output_type": "display_data",
          "data": {
            "text/plain": [
              "<Figure size 432x288 with 1 Axes>"
            ],
            "image/png": "[encoded data removed]"
          },
          "metadata": {
            "needs_background": "light"
          }
        }
      ]
    },
    {
      "cell_type": "markdown",
      "source": [
        "Berdasarkan visualisasi bar chart, Jumlah Kustomer sejalan dengan Jumlah Transaksi. Hal ini terlihat pada tahun 2017 yakni sama sama meningkat baik transaksi maupun konsumennya. Hal serupa juga dialami dan terjadi pada tahun 2015 sebelumnya.\n",
        "\n"
      ],
      "metadata": {
        "id": "eXVyIb0uwV6Y"
      }
    },
    {
      "cell_type": "markdown",
      "source": [
        "##Average transaction amount by year\n",
        "Dengan menggunakan seaborn pointplot, visualisasikanlah tren dari tahun ke tahun rata-rata jumlah transaksi untuk tiap-tiap produknya."
      ],
      "metadata": {
        "id": "6XsVh9GEwoKb"
      }
    },
    {
      "cell_type": "code",
      "source": [
        "import seaborn as sns\n",
        "\n",
        "plt.clf()\n",
        "sns.pointplot(data = df.groupby(['Product', 'Year_First_Transaction']).mean().reset_index(), x = 'Year_First_Transaction', y = 'Average_Transaction_Amount', hue = 'Product')\n",
        "\n",
        "plt.show()"
      ],
      "metadata": {
        "colab": {
          "base_uri": "https://localhost:8080/",
          "height": 291
        },
        "id": "uV-b7eu7wcKE",
        "outputId": "3f99395d-3496-4895-ee6a-d7ad17203f0b"
      },
      "execution_count": 19,
      "outputs": [
        {
          "output_type": "display_data",
          "data": {
            "text/plain": [
              "<Figure size 432x288 with 1 Axes>"
            ],
            "image/png": "[encoded data removed]"
          },
          "metadata": {
            "needs_background": "light"
          }
        }
      ]
    },
    {
      "cell_type": "markdown",
      "source": [
        "Berdasarkan rata-rata transaksi, beberapa produk mengalami kecenderungan naik-turun. Namun juga konstan seperti produk sepatu"
      ],
      "metadata": {
        "id": "mdRA2Cm-xhAt"
      }
    },
    {
      "cell_type": "markdown",
      "source": [
        "##Proporsi churned customer untuk setiap produk / Kustomer yang menghentikan pembeliannya.\n",
        "\n",
        "Dari sisi churned customer, khususnya untuk melihat seberapa besar proporsi churned customer untuk tiap-tiap produk dapat diketahui insight-nya melalui pie chart. Visualisasikan pie chartnya untuk keempat produk yang dimaksudkan."
      ],
      "metadata": {
        "id": "Lvcij94UzMY8"
      }
    },
    {
      "cell_type": "code",
      "source": [
        "# Pivot data, membuat table baru berisikan kolom is churn dan produk yang telah dipisah menjadi kolom baru, lalu di count jumlahnya\n",
        "df_piv = df.pivot_table(index = 'is_churn', columns = 'Product',values = 'Customer_ID',aggfunc = 'count', fill_value=0)\n",
        "\n",
        "#Mendapatkan Proportion Churn by Product\n",
        "plot_product = df_piv.count().sort_values(ascending=False).head(5).index\n",
        "\n"
      ],
      "metadata": {
        "id": "LCjostX_xhyt"
      },
      "execution_count": 20,
      "outputs": []
    },
    {
      "cell_type": "code",
      "source": [
        "df_piv\n"
      ],
      "metadata": {
        "colab": {
          "base_uri": "https://localhost:8080/",
          "height": 143
        },
        "id": "8YXg57OP0Uq5",
        "outputId": "f01f5e12-7713-4941-c845-a01faa542e95"
      },
      "execution_count": 21,
      "outputs": [
        {
          "output_type": "execute_result",
          "data": {
            "text/plain": [
              "Product   Baju  Jaket  Sepatu   Tas\n",
              "is_churn                           \n",
              "0         1268  11123   16064  4976\n",
              "1         2144  23827   33090  7508"
            ],
            "text/html": [
              "\n",
              "  <div id=\"df-86aa7993-3681-4f2c-9d7a-cb38d07437a1\">\n",
              "    <div class=\"colab-df-container\">\n",
              "      <div>\n",
              "<style scoped>\n",
              "    .dataframe tbody tr th:only-of-type {\n",
              "        vertical-align: middle;\n",
              "    }\n",
              "\n",
              "    .dataframe tbody tr th {\n",
              "        vertical-align: top;\n",
              "    }\n",
              "\n",
              "    .dataframe thead th {\n",
              "        text-align: right;\n",
              "    }\n",
              "</style>\n",
              "<table border=\"1\" class=\"dataframe\">\n",
              "  <thead>\n",
              "    <tr style=\"text-align: right;\">\n",
              "      <th>Product</th>\n",
              "      <th>Baju</th>\n",
              "      <th>Jaket</th>\n",
              "      <th>Sepatu</th>\n",
              "      <th>Tas</th>\n",
              "    </tr>\n",
              "    <tr>\n",
              "      <th>is_churn</th>\n",
              "      <th></th>\n",
              "      <th></th>\n",
              "      <th></th>\n",
              "      <th></th>\n",
              "    </tr>\n",
              "  </thead>\n",
              "  <tbody>\n",
              "    <tr>\n",
              "      <th>0</th>\n",
              "      <td>1268</td>\n",
              "      <td>11123</td>\n",
              "      <td>16064</td>\n",
              "      <td>4976</td>\n",
              "    </tr>\n",
              "    <tr>\n",
              "      <th>1</th>\n",
              "      <td>2144</td>\n",
              "      <td>23827</td>\n",
              "      <td>33090</td>\n",
              "      <td>7508</td>\n",
              "    </tr>\n",
              "  </tbody>\n",
              "</table>\n",
              "</div>\n",
              "      <button class=\"colab-df-convert\" onclick=\"convertToInteractive('df-86aa7993-3681-4f2c-9d7a-cb38d07437a1')\"\n",
              "              title=\"Convert this dataframe to an interactive table.\"\n",
              "              style=\"display:none;\">\n",
              "        \n",
              "  <svg xmlns=\"http://www.w3.org/2000/svg\" height=\"24px\"viewBox=\"0 0 24 24\"\n",
              "       width=\"24px\">\n",
              "    <path d=\"M0 0h24v24H0V0z\" fill=\"none\"/>\n",
              "    <path d=\"M18.56 5.44l.94 2.06.94-2.06 2.06-.94-2.06-.94-.94-2.06-.94 2.06-2.06.94zm-11 1L8.5 8.5l.94-2.06 2.06-.94-2.06-.94L8.5 2.5l-.94 2.06-2.06.94zm10 10l.94 2.06.94-2.06 2.06-.94-2.06-.94-.94-2.06-.94 2.06-2.06.94z\"/><path d=\"M17.41 7.96l-1.37-1.37c-.4-.4-.92-.59-1.43-.59-.52 0-1.04.2-1.43.59L10.3 9.45l-7.72 7.72c-.78.78-.78 2.05 0 2.83L4 21.41c.39.39.9.59 1.41.59.51 0 1.02-.2 1.41-.59l7.78-7.78 2.81-2.81c.8-.78.8-2.07 0-2.86zM5.41 20L4 18.59l7.72-7.72 1.47 1.35L5.41 20z\"/>\n",
              "  </svg>\n",
              "      </button>\n",
              "      \n",
              "  <style>\n",
              "    .colab-df-container {\n",
              "      display:flex;\n",
              "      flex-wrap:wrap;\n",
              "      gap: 12px;\n",
              "    }\n",
              "\n",
              "    .colab-df-convert {\n",
              "      background-color: #E8F0FE;\n",
              "      border: none;\n",
              "      border-radius: 50%;\n",
              "      cursor: pointer;\n",
              "      display: none;\n",
              "      fill: #1967D2;\n",
              "      height: 32px;\n",
              "      padding: 0 0 0 0;\n",
              "      width: 32px;\n",
              "    }\n",
              "\n",
              "    .colab-df-convert:hover {\n",
              "      background-color: #E2EBFA;\n",
              "      box-shadow: 0px 1px 2px rgba(60, 64, 67, 0.3), 0px 1px 3px 1px rgba(60, 64, 67, 0.15);\n",
              "      fill: #174EA6;\n",
              "    }\n",
              "\n",
              "    [theme=dark] .colab-df-convert {\n",
              "      background-color: #3B4455;\n",
              "      fill: #D2E3FC;\n",
              "    }\n",
              "\n",
              "    [theme=dark] .colab-df-convert:hover {\n",
              "      background-color: #434B5C;\n",
              "      box-shadow: 0px 1px 3px 1px rgba(0, 0, 0, 0.15);\n",
              "      filter: drop-shadow(0px 1px 2px rgba(0, 0, 0, 0.3));\n",
              "      fill: #FFFFFF;\n",
              "    }\n",
              "  </style>\n",
              "\n",
              "      <script>\n",
              "        const buttonEl =\n",
              "          document.querySelector('#df-86aa7993-3681-4f2c-9d7a-cb38d07437a1 button.colab-df-convert');\n",
              "        buttonEl.style.display =\n",
              "          google.colab.kernel.accessAllowed ? 'block' : 'none';\n",
              "\n",
              "        async function convertToInteractive(key) {\n",
              "          const element = document.querySelector('#df-86aa7993-3681-4f2c-9d7a-cb38d07437a1');\n",
              "          const dataTable =\n",
              "            await google.colab.kernel.invokeFunction('convertToInteractive',\n",
              "                                                     [key], {});\n",
              "          if (!dataTable) return;\n",
              "\n",
              "          const docLinkHtml = 'Like what you see? Visit the ' +\n",
              "            '<a target=\"_blank\" href=https://colab.research.google.com/notebooks/data_table.ipynb>data table notebook</a>'\n",
              "            + ' to learn more about interactive tables.';\n",
              "          element.innerHTML = '';\n",
              "          dataTable['output_type'] = 'display_data';\n",
              "          await google.colab.output.renderOutput(dataTable, element);\n",
              "          const docLink = document.createElement('div');\n",
              "          docLink.innerHTML = docLinkHtml;\n",
              "          element.appendChild(docLink);\n",
              "        }\n",
              "      </script>\n",
              "    </div>\n",
              "  </div>\n",
              "  "
            ]
          },
          "metadata": {},
          "execution_count": 21
        }
      ]
    },
    {
      "cell_type": "code",
      "source": [
        "plot_product"
      ],
      "metadata": {
        "colab": {
          "base_uri": "https://localhost:8080/"
        },
        "id": "RMqFmTQ20jhC",
        "outputId": "0237f3a0-b7d5-4adc-a19e-a7e9c81a1081"
      },
      "execution_count": 22,
      "outputs": [
        {
          "output_type": "execute_result",
          "data": {
            "text/plain": [
              "Index(['Baju', 'Jaket', 'Sepatu', 'Tas'], dtype='object', name='Product')"
            ]
          },
          "metadata": {},
          "execution_count": 22
        }
      ]
    },
    {
      "cell_type": "code",
      "source": [
        "#Plotting pie chart\n",
        "df_piv = df_piv.reindex(columns=plot_product)\n",
        "df_piv.plot.pie(subplots=True, figsize = (10, 7), layout = (-1,2),\n",
        "                autopct = '%1.0f%%',\n",
        "                title = 'Proportion Churn by Product')\n",
        "plt.show()"
      ],
      "metadata": {
        "colab": {
          "base_uri": "https://localhost:8080/",
          "height": 462
        },
        "id": "FyJM6iMU04xF",
        "outputId": "8084e2b9-20a9-4b38-edc6-2a74b21e728a"
      },
      "execution_count": 23,
      "outputs": [
        {
          "output_type": "display_data",
          "data": {
            "text/plain": [
              "<Figure size 720x504 with 4 Axes>"
            ],
            "image/png": "[encoded data removed]"
          },
          "metadata": {}
        }
      ]
    },
    {
      "cell_type": "markdown",
      "source": [
        "Berdasarkan visualisasi pie chart, seperti yang telah kita jelaskan sebelumnya bahwa ngka 0 diwakili logika False (bukan customer churn) dan angka 1 diwakili logika True yang artinya tergolong customer churn. Terlihat bahwa hampir keseluruhan produk memiliki customer churn. Artinya :\n",
        "1. Konsumen sudah mulai berhenti untuk menggunakan layanan atau menghentikan pembeliannya (sudah bukan pelanggan). \n",
        "2. Rentang customer churn keseluruhan produk berkisar 60–68%.\n",
        "\n",
        "Kira-kira apa penyebabnya ya? Hal ini diakibatkan konsumen sudah agak sedikit beralih ke produk lain."
      ],
      "metadata": {
        "id": "GPx6WE601pJw"
      }
    },
    {
      "cell_type": "markdown",
      "source": [
        "# Tentang Churn, Solusi\n",
        "Dilansir dari laman Glints, Alasan utama mengapa customer churn rate penting adalah persentase pelanggan yang hilang tersebut sangat memengaruhi growth rate perusahaan. Sebagai contoh, kamu memiliki ember berisi batu. Tiba-tiba, ada lubang yang menyebabkan banyak batu berjatuhan. Mengisi ember tersebut agar kembali penuh dengan batu yang berserakan akan memakan waktu, biaya, dan tenaga tambahan.\n",
        "\n",
        "Dilansir dari CleverTap, memperoleh pelanggan baru secara umum akan lebih mahal 5–25 kali lipat jika dibandingkan dengan mempertahankan mereka yang sudah ada. Maka dari itu, sebelum mengisi batu ke dalam ember, kamu perlu mengetahui di mana letak lubangnya, kenapa bisa ada lubang di situ, dan seterusnya.\n",
        "\n",
        "Solusi yang bisa dilakukan: kita bisa memanfaatkan 32–40% yang tergolong kedalam bukan customer churn untuk fokus kepada pelanggan setia produk DQLab Sport Center dengan memfokuskan tenaga, biaya, dan juga waktu pada pelanggan yang sudah terbukti setia."
      ],
      "metadata": {
        "id": "g3z-ixdb2G0B"
      }
    },
    {
      "cell_type": "markdown",
      "source": [
        "#Data Visualization Part 2"
      ],
      "metadata": {
        "id": "vxfAnqJVZWEW"
      }
    },
    {
      "cell_type": "markdown",
      "source": [
        "##Distribusi kategorisasi count transaction\n",
        "Selanjutnya akan melakukan visualisasi dari distribusi kategorisasi count transaction. Kategorisasi ini dilakukan dengan mengelompokkan jumlah transaksi seperti yang diperlihatkan oleh tabel berikut:\n",
        "\n",
        "![image.png](data:image/png;base64,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)"
      ],
      "metadata": {
        "id": "ykR8cZt6VkIT"
      }
    },
    {
      "cell_type": "code",
      "source": [
        "plt.clf()\n",
        "#Membuat fungsi kategorisasi jumlah transaksi\n",
        "def func(row):\n",
        "  if row['Count_Transaction'] == 1:\n",
        "    val = '1.1'\n",
        "  elif (row['Count_Transaction'] > 1 and row['Count_Transaction'] <= 3):\n",
        "    val = '2.2 - 3'\n",
        "  elif (row['Count_Transaction'] > 3 and row['Count_Transaction'] <= 6):\n",
        "    val = '3.4 - 6'\n",
        "  elif (row['Count_Transaction'] > 7 and row['Count_Transaction'] <= 10):\n",
        "    val = '4.7 - 10'\n",
        "  else:\n",
        "    val = '5. >10'\n",
        "  return val"
      ],
      "metadata": {
        "colab": {
          "base_uri": "https://localhost:8080/",
          "height": 34
        },
        "id": "DpLwU8yDVwGW",
        "outputId": "bc3694ca-6b53-45a3-b0e1-d01f3a70d721"
      },
      "execution_count": 24,
      "outputs": [
        {
          "output_type": "display_data",
          "data": {
            "text/plain": [
              "<Figure size 432x288 with 0 Axes>"
            ]
          },
          "metadata": {}
        }
      ]
    },
    {
      "cell_type": "code",
      "source": [
        "# Membuat kolom baru\n",
        "df['Count_Transaction_Group'] = df.apply(func, axis=1)"
      ],
      "metadata": {
        "id": "mCCDekL0XeQG"
      },
      "execution_count": 25,
      "outputs": []
    },
    {
      "cell_type": "code",
      "source": [
        "df_year = df.groupby(['Count_Transaction_Group'])['Customer_ID'].count()\n",
        "df_year.plot(x='Count_Transaction_Group', y='Customer_ID', kind='bar', title = 'Customer Distribution by Count Transaction Group')\n",
        "plt.xlabel('Count_Transaction_Group')\n",
        "plt.ylabel('Num_of_Customer')\n",
        "plt.show()"
      ],
      "metadata": {
        "colab": {
          "base_uri": "https://localhost:8080/",
          "height": 325
        },
        "id": "dTyijnE-X4YY",
        "outputId": "406e6e99-76d0-42fd-9789-a6b3002833cc"
      },
      "execution_count": 26,
      "outputs": [
        {
          "output_type": "display_data",
          "data": {
            "text/plain": [
              "<Figure size 432x288 with 1 Axes>"
            ],
            "image/png": "[encoded data removed]"
          },
          "metadata": {
            "needs_background": "light"
          }
        }
      ]
    },
    {
      "cell_type": "markdown",
      "source": [
        "Setelah diketahui melalui visualisasi bar chart dalam distribusi kategori transaksi yang dilakukan, ternyata jumlah transaksi mereka hanya terjadi sekali (paling dominan). Sedangkan yang terendah adalah konsumen yang melakukan transaksi 7–10 kali dalam pembeliannya."
      ],
      "metadata": {
        "id": "ujH8gx8VY8tJ"
      }
    },
    {
      "cell_type": "markdown",
      "source": [
        "##Distribusi kategorisasi average transaction amount\n",
        "Selanjutnya, akan melakukan visualisasi dari distribusi kategorisasi average transaction amount. Kategorisasi ini dilakukan dengan mengelompokkan rata-rata besar transaksi seperti yang diperlihatkan oleh tabel berikut:\n"
      ],
      "metadata": {
        "id": "WuzzDq5bZi6W"
      }
    },
    {
      "cell_type": "code",
      "source": [
        "plt.clf()\n",
        "#Kategori rata-rata besar transaksi\n",
        "def f(row):\n",
        "  if(row['Average_Transaction_Amount'] >= 100000 and row ['Average_Transaction_Amount'] <=200000):\n",
        "    val = '1. 100.000 - 250.000'\n",
        "  elif(row['Average_Transaction_Amount'] > 250000 and row ['Average_Transaction_Amount'] <=500000):\n",
        "    val = '2. 250.000 - 500.000'\n",
        "  elif(row['Average_Transaction_Amount'] > 500000 and row ['Average_Transaction_Amount'] <=750000):\n",
        "    val = '3. 500.000 - 750.000'\n",
        "  elif(row['Average_Transaction_Amount'] > 750000 and row ['Average_Transaction_Amount'] <=1000000):\n",
        "    val = '4. 750.000 - 1.000.000'\n",
        "  elif(row['Average_Transaction_Amount'] > 1000000 and row ['Average_Transaction_Amount'] <=2500000):\n",
        "    val = '5. 1.000.000 - 2.500.000'\n",
        "  elif(row['Average_Transaction_Amount'] > 2500000 and row ['Average_Transaction_Amount'] <=5000000):\n",
        "    val = '6. 2.500.000 - 5.000.000'\n",
        "  elif(row['Average_Transaction_Amount'] > 5000000 and row ['Average_Transaction_Amount'] <=10000000):\n",
        "    val = '7. >5.000.000 - 10.000.000'\n",
        "  else:\n",
        "    val = '8. >10.000.000'\n",
        "  return val\n",
        "\n",
        "\n",
        "\n",
        "\n",
        "\n"
      ],
      "metadata": {
        "colab": {
          "base_uri": "https://localhost:8080/",
          "height": 34
        },
        "id": "Dxy72ST7Y9Ze",
        "outputId": "6dee4238-b5a0-4888-c8fc-334edceaa77d"
      },
      "execution_count": 27,
      "outputs": [
        {
          "output_type": "display_data",
          "data": {
            "text/plain": [
              "<Figure size 432x288 with 0 Axes>"
            ]
          },
          "metadata": {}
        }
      ]
    },
    {
      "cell_type": "code",
      "source": [
        "#Menambahkan kolom baru\n",
        "df['Average_Transaction_Amount_Group'] = df.apply(f, axis=1)"
      ],
      "metadata": {
        "id": "vq9TaJoIcdFr"
      },
      "execution_count": 28,
      "outputs": []
    },
    {
      "cell_type": "code",
      "source": [
        "df_year = df.groupby(['Average_Transaction_Amount_Group'])['Customer_ID'].count()\n",
        "df_year.plot(x= 'Average_Transaction_Amount_Group', y= 'Customer_ID', kind='bar', title='Customer Distribution by Average Transaction Amount Group')\n",
        "plt.xlabel('Average Transaction Amount Group')\n",
        "plt.ylabel('Num of Customer')\n",
        "plt.show()"
      ],
      "metadata": {
        "colab": {
          "base_uri": "https://localhost:8080/",
          "height": 423
        },
        "id": "Y-peNGEocxSb",
        "outputId": "7b9fa613-a86e-4178-917f-5b57fb8463ea"
      },
      "execution_count": 29,
      "outputs": [
        {
          "output_type": "display_data",
          "data": {
            "text/plain": [
              "<Figure size 432x288 with 1 Axes>"
            ],
            "image/png": "[encoded data removed]"
          },
          "metadata": {
            "needs_background": "light"
          }
        }
      ]
    },
    {
      "cell_type": "markdown",
      "source": [
        "Berdasarkan output visualisasi bar chart, rata-rata besar transaksi terjadi pada rentang angka > 1.000.000 hingga 2.500.000."
      ],
      "metadata": {
        "id": "r5oNRjZXeF4f"
      }
    },
    {
      "cell_type": "markdown",
      "source": [
        "#Coding Test: Modelling"
      ],
      "metadata": {
        "id": "uCOdN8QmeHRH"
      }
    },
    {
      "cell_type": "markdown",
      "source": [
        "##Feature Columns dan Target\n",
        "Di bagian ini, selanjutnya akan menentukan feature columns dari dataset yang dimiliki, di sini dipilih kolom Average_Transaction_Amount, Count_Transaction, dan Year_Diff. Akan tetapi, kolom terakhir belum ada. Membuat kolom Year_Diff ini dan kemudian assign dataset dengan feature columns ini sebagai variabel independent X.\n",
        "\n",
        "Untuk target tentunya persoalan costumer dengan kondisi churn atau tidak, assign dataset untuk target ini ke dalam variabe dependent y."
      ],
      "metadata": {
        "id": "YJIWkBSUeV7v"
      }
    },
    {
      "cell_type": "markdown",
      "source": [
        "Membuat 2 variabel array X dan Y, isi array X dengan data feature(Variabel Independent) dan dan array Y dengan data target(Variabel Dependent)."
      ],
      "metadata": {
        "id": "x-IStZpzfJBL"
      }
    },
    {
      "cell_type": "code",
      "source": [
        "#Feature Column: Year_Diff\n",
        "df['Year_Diff'] = df['Year_Last_Transaction'] - df['Year_First_Transaction']\n",
        "\n",
        "#Nama - nama feature columns\n",
        "feature_columns = ['Average_Transaction_Amount', 'Count_Transaction', 'Year_Diff']\n",
        "\n",
        "# X independent variabel\n",
        "X = df[feature_columns]\n",
        "\n",
        "# y dependent variabel\n",
        "y = df['is_churn']"
      ],
      "metadata": {
        "id": "DrGyKs9NdcAm"
      },
      "execution_count": 30,
      "outputs": []
    },
    {
      "cell_type": "code",
      "source": [
        "print( X)\n",
        "# print('\\nKolom Targer', y)"
      ],
      "metadata": {
        "colab": {
          "base_uri": "https://localhost:8080/"
        },
        "id": "Fb8dign1grAQ",
        "outputId": "3f6f6f3b-0409-4db5-a1a8-29ebbf96873d"
      },
      "execution_count": 31,
      "outputs": [
        {
          "output_type": "stream",
          "name": "stdout",
          "text": [
            "       Average_Transaction_Amount  Count_Transaction  Year_Diff\n",
            "0                         1467681                 22          2\n",
            "1                         1269337                 41          4\n",
            "2                          310915                 30          2\n",
            "3                          722632                 27          2\n",
            "4                         1775036                 25          3\n",
            "...                           ...                ...        ...\n",
            "99995                      298662                  1          0\n",
            "99996                      349556                  1          0\n",
            "99997                      598013                  1          0\n",
            "99998                     1208591                  1          0\n",
            "99999                      486710                  1          0\n",
            "\n",
            "[100000 rows x 3 columns]\n"
          ]
        }
      ]
    },
    {
      "cell_type": "markdown",
      "source": [
        "##Split X dan y ke dalam bagian training dan testing\n",
        "Setelah variabel independent X dan variabel dependent y selesai dilakukan, maka pecahlah X dan y ke dalam bagian training dan testing. Bagian testing 25% dari jumlah entri data"
      ],
      "metadata": {
        "id": "eAjb3Uqzg7Ht"
      }
    },
    {
      "cell_type": "code",
      "source": [
        "# Melakukan splitting data train dan data test\n",
        "\n",
        "from sklearn.model_selection import train_test_split\n",
        "\n",
        "X_train, X_test, y_train, y_test, = train_test_split(X, y, test_size=0.30, random_state=0)"
      ],
      "metadata": {
        "id": "JPs-nmNSg0N6"
      },
      "execution_count": 32,
      "outputs": []
    },
    {
      "cell_type": "markdown",
      "source": [
        "##Data Standarization"
      ],
      "metadata": {
        "id": "AOx9XjsTY0WQ"
      }
    },
    {
      "cell_type": "code",
      "source": [
        "#Performing Feature Scaling\n",
        "from sklearn.preprocessing import StandardScaler\n",
        "sc = StandardScaler()\n",
        "X_train = sc.fit_transform(X_train)\n",
        "X_test = sc.transform(X_test)"
      ],
      "metadata": {
        "id": "Jv4dWpaYY3Eo"
      },
      "execution_count": 33,
      "outputs": []
    },
    {
      "cell_type": "code",
      "source": [
        "# evaluation metrics\n",
        "from sklearn.metrics import confusion_matrix\n",
        "from sklearn.metrics import accuracy_score, recall_score, precision_score, f1_score\n",
        "\n",
        "def classification_eval (aktual, prediksi, name):\n",
        "    cm = confusion_matrix(aktual, prediksi)\n",
        "    tp = cm[1][1]\n",
        "    tn = cm[0][0]\n",
        "    fp = cm[0][1]\n",
        "    fn = cm[1][0]\n",
        "    \n",
        "    accuracy = round((tp+tn) / (tp+tn+fp+fn) * 100, 2)\n",
        "    precision = round((tp) / (tp+fp) * 100, 2)\n",
        "    recall = round((tp) / (tp+fn) * 100, 2)\n",
        "    \n",
        "    print('===== Evaluation Model: {} ====='.format(name))\n",
        "    print(cm)\n",
        "    print(\"\")\n",
        "    print('Accuracy   :', accuracy, '%')\n",
        "    print('Precision  :', precision, '%')\n",
        "    print('Recall     :', recall, '%')"
      ],
      "metadata": {
        "id": "HWrKo1W4hLOX"
      },
      "execution_count": 34,
      "outputs": []
    },
    {
      "cell_type": "markdown",
      "source": [
        "#Training Model"
      ],
      "metadata": {
        "id": "JPstl6Gu_61Q"
      }
    },
    {
      "cell_type": "code",
      "source": [
        "# Machine Learning's Library\n",
        "from sklearn.ensemble import RandomForestClassifier\n",
        "from sklearn.linear_model import LogisticRegression\n",
        "from sklearn.svm import SVC"
      ],
      "metadata": {
        "id": "dejbJCcT9xwk"
      },
      "execution_count": 35,
      "outputs": []
    },
    {
      "cell_type": "markdown",
      "source": [
        "##Logistic Regression"
      ],
      "metadata": {
        "id": "C-TtGqaX9ht8"
      }
    },
    {
      "cell_type": "code",
      "source": [
        "logReg = LogisticRegression(penalty='l2')\n",
        "logReg.fit(X_train, y_train)\n",
        "\n",
        "y_train_pred = logReg.predict(X_train)\n",
        "y_test_pred = logReg.predict(X_test)\n",
        "\n",
        "classification_eval(y_train, y_train_pred, 'Logistic Regression')\n",
        "\n",
        "print('\\r')\n",
        "\n",
        "classification_eval(y_test, y_test_pred, 'Logistic Regression')"
      ],
      "metadata": {
        "id": "7Fxh4EaI7rZO",
        "colab": {
          "base_uri": "https://localhost:8080/"
        },
        "outputId": "2cda3fa9-782f-481a-952f-001cb00d66f5"
      },
      "execution_count": 36,
      "outputs": [
        {
          "output_type": "stream",
          "name": "stdout",
          "text": [
            "===== Evaluation Model: Logistic Regression =====\n",
            "[[ 9559 13808]\n",
            " [ 2939 43694]]\n",
            "\n",
            "Accuracy   : 76.08 %\n",
            "Precision  : 75.99 %\n",
            "Recall     : 93.7 %\n",
            "\r\n",
            "===== Evaluation Model: Logistic Regression =====\n",
            "[[ 4150  5914]\n",
            " [ 1227 18709]]\n",
            "\n",
            "Accuracy   : 76.2 %\n",
            "Precision  : 75.98 %\n",
            "Recall     : 93.85 %\n"
          ]
        }
      ]
    },
    {
      "cell_type": "code",
      "source": [
        "y_test_pred = logReg.predict(X_test)\n",
        "classification_eval(y_test, y_test_pred, 'logistic regression Testing')"
      ],
      "metadata": {
        "colab": {
          "base_uri": "https://localhost:8080/"
        },
        "id": "xNZJZq8v8nhW",
        "outputId": "93071be8-08da-4ff8-e6d2-c3e3a74809b0"
      },
      "execution_count": 37,
      "outputs": [
        {
          "output_type": "stream",
          "name": "stdout",
          "text": [
            "===== Evaluation Model: logistic regression Testing =====\n",
            "[[ 4150  5914]\n",
            " [ 1227 18709]]\n",
            "\n",
            "Accuracy   : 76.2 %\n",
            "Precision  : 75.98 %\n",
            "Recall     : 93.85 %\n"
          ]
        }
      ]
    },
    {
      "cell_type": "markdown",
      "source": [
        "##Random Forest"
      ],
      "metadata": {
        "id": "SB96c4nG9lHj"
      }
    },
    {
      "cell_type": "code",
      "source": [
        "ranFor = RandomForestClassifier(max_depth=3, criterion='entropy')\n",
        "ranFor.fit(X_train, y_train)\n",
        "\n",
        "y_train_pred = ranFor.predict(X_train)\n",
        "y_test_pred = ranFor.predict(X_test)\n",
        "\n",
        "classification_eval(y_train, y_train_pred, 'random forest Training')\n",
        "\n",
        "print('\\r')\n",
        "\n",
        "classification_eval(y_test, y_test_pred, 'random forest Testing')"
      ],
      "metadata": {
        "colab": {
          "base_uri": "https://localhost:8080/"
        },
        "id": "5nuXQue99myI",
        "outputId": "fe1e82c8-771c-4bc3-ef6d-9dc030a8e8d8"
      },
      "execution_count": 38,
      "outputs": [
        {
          "output_type": "stream",
          "name": "stdout",
          "text": [
            "===== Evaluation Model: random forest Training =====\n",
            "[[10417 12950]\n",
            " [ 3176 43457]]\n",
            "\n",
            "Accuracy   : 76.96 %\n",
            "Precision  : 77.04 %\n",
            "Recall     : 93.19 %\n",
            "\r\n",
            "===== Evaluation Model: random forest Testing =====\n",
            "[[ 4517  5547]\n",
            " [ 1343 18593]]\n",
            "\n",
            "Accuracy   : 77.03 %\n",
            "Precision  : 77.02 %\n",
            "Recall     : 93.26 %\n"
          ]
        }
      ]
    },
    {
      "cell_type": "markdown",
      "source": [
        "## Artificial Neural Network"
      ],
      "metadata": {
        "id": "0PvfE6XFZvQu"
      }
    },
    {
      "cell_type": "code",
      "source": [
        "#Initialising ANN\n",
        "import tensorflow as tf\n",
        "ann = tf.keras.models.Sequential()"
      ],
      "metadata": {
        "id": "kKCoNPxuZzvR"
      },
      "execution_count": 40,
      "outputs": []
    },
    {
      "cell_type": "code",
      "source": [
        "#Adding 1,2,3 Hidden Layer\n",
        "ann.add(tf.keras.layers.Dense(units=6,activation=\"relu\"))\n",
        "ann.add(tf.keras.layers.Dense(units=6,activation=\"relu\"))\n",
        "ann.add(tf.keras.layers.Dense(units=6,activation=\"relu\"))"
      ],
      "metadata": {
        "id": "6Gl_u3-faCwd"
      },
      "execution_count": 41,
      "outputs": []
    },
    {
      "cell_type": "code",
      "source": [
        "#Adding Output Layer\n",
        "ann.add(tf.keras.layers.Dense(units=1,activation=\"sigmoid\"))"
      ],
      "metadata": {
        "id": "kpsUjQ5NaPYI"
      },
      "execution_count": 42,
      "outputs": []
    },
    {
      "cell_type": "code",
      "source": [
        "#Compiling ANN\n",
        "ann.compile(optimizer=\"adam\",loss=\"binary_crossentropy\",metrics=['accuracy'])"
      ],
      "metadata": {
        "id": "VpnspYp8aR60"
      },
      "execution_count": 43,
      "outputs": []
    },
    {
      "cell_type": "code",
      "source": [
        "#Fitting ANN\n",
        "ann.fit(X_train,y_train,batch_size=32,epochs = 10)"
      ],
      "metadata": {
        "colab": {
          "base_uri": "https://localhost:8080/"
        },
        "id": "7E_tv7eJaTHo",
        "outputId": "f805a872-99d1-4c49-d946-7cad2641df53"
      },
      "execution_count": 46,
      "outputs": [
        {
          "output_type": "stream",
          "name": "stdout",
          "text": [
            "Epoch 1/10\n",
            "2344/2344 [==============================] - 8s 3ms/step - loss: 0.5316 - accuracy: 0.7691\n",
            "Epoch 2/10\n",
            "2344/2344 [==============================] - 7s 3ms/step - loss: 0.5318 - accuracy: 0.7688\n",
            "Epoch 3/10\n",
            "2344/2344 [==============================] - 7s 3ms/step - loss: 0.5316 - accuracy: 0.7689\n",
            "Epoch 4/10\n",
            "2344/2344 [==============================] - 7s 3ms/step - loss: 0.5316 - accuracy: 0.7691\n",
            "Epoch 5/10\n",
            "2344/2344 [==============================] - 7s 3ms/step - loss: 0.5315 - accuracy: 0.7691\n",
            "Epoch 6/10\n",
            "2344/2344 [==============================] - 7s 3ms/step - loss: 0.5315 - accuracy: 0.7691\n",
            "Epoch 7/10\n",
            "2344/2344 [==============================] - 7s 3ms/step - loss: 0.5315 - accuracy: 0.7691\n",
            "Epoch 8/10\n",
            "2344/2344 [==============================] - 7s 3ms/step - loss: 0.5313 - accuracy: 0.7692\n",
            "Epoch 9/10\n",
            "2344/2344 [==============================] - 7s 3ms/step - loss: 0.5313 - accuracy: 0.7690\n",
            "Epoch 10/10\n",
            "2344/2344 [==============================] - 7s 3ms/step - loss: 0.5314 - accuracy: 0.7692\n"
          ]
        },
        {
          "output_type": "execute_result",
          "data": {
            "text/plain": [
              "<keras.callbacks.History at 0x7ff36c2886a0>"
            ]
          },
          "metadata": {},
          "execution_count": 46
        }
      ]
    },
    {
      "cell_type": "markdown",
      "source": [
        "##Error saat training\n",
        "Membahas : the problem is that you are applying a metric (accuracy) that is inappropriate for your model (LinearRegression): if you are in a classification setting, you should change your model (e.g. use LogisticRegression instead); if you are in a regression (i.e. numeric prediction) setting, you should change the metric\n",
        "\n",
        "https://stackoverflow.com/questions/38015181/accuracy-score-valueerror-cant-handle-mix-of-binary-and-continuous-target"
      ],
      "metadata": {
        "id": "7L1NoKhSesAG"
      }
    },
    {
      "cell_type": "code",
      "source": [
        "y_train_pred = ann.predict(X_train)\n",
        "y_test_pred = ann.predict(X_test)\n",
        "\n",
        "classification_eval(y_train, y_train_pred, 'random forest Training')\n",
        "\n",
        "print('\\r')\n",
        "\n",
        "classification_eval(y_test, y_test_pred, 'random forest Testing')"
      ],
      "metadata": {
        "id": "JVkaK515btwm"
      },
      "execution_count": null,
      "outputs": []
    },
    {
      "cell_type": "code",
      "source": [
        "# models = []\n",
        "# models.append(('SVM', svm.SVC()))\n",
        "# models.append(('LR', LogisticRegression()))\n",
        "# models.append(('LDA', LinearDiscriminantAnalysis()))\n",
        "# models.append(('KNN', KNeighborsClassifier()))\n",
        "# models.append(('CART', DecisionTreeClassifier()))\n",
        "# models.append(('NB', GaussianNB()))\n",
        "#===================================dibawah ini bukan untuk masalah klasifikasi (0/1)\n",
        "#models.append(('SGDRegressor', linear_model.SGDRegressor())) #ValueError: Classification metrics can't handle a mix of binary and continuous targets\n",
        "#models.append(('BayesianRidge', linear_model.BayesianRidge())) #ValueError: Classification metrics can't handle a mix of binary and continuous targets\n",
        "#models.append(('LassoLars', linear_model.LassoLars())) #ValueError: Classification metrics can't handle a mix of binary and continuous targets\n",
        "#models.append(('ARDRegression', linear_model.ARDRegression())) #ValueError: Classification metrics can't handle a mix of binary and continuous targets\n",
        "#models.append(('PassiveAggressiveRegressor', linear_model.PassiveAggressiveRegressor())) #ValueError: Classification metrics can't handle a mix of binary and continuous targets\n",
        "#models.append(('TheilSenRegressor', linear_model.TheilSenRegressor())) #ValueError: Classification metrics can't handle a mix of binary and continuous targets\n",
        "#models.append(('LinearRegression', linear_model.LinearRegression())) #ValueError: Classification metrics can't handle a mix of binary and continuous targets"
      ],
      "metadata": {
        "id": "r8CW8aYwnEVc"
      },
      "execution_count": null,
      "outputs": []
    },
    {
      "cell_type": "markdown",
      "source": [
        "#Masih eror"
      ],
      "metadata": {
        "id": "CnHdDfENZp-R"
      }
    },
    {
      "cell_type": "markdown",
      "source": [
        "##SVM"
      ],
      "metadata": {
        "id": "M3ydSi5Y_000"
      }
    },
    {
      "cell_type": "code",
      "source": [
        "svm = SVC(kernel='linear') \n",
        "svm.fit(X_train,y_train)\n",
        "\n",
        "y_train_pred = svm.predict(X_train)\n",
        "y_test_pred = svm.predict(X_test)\n",
        "\n",
        "classification_eval(y_train, y_train_pred, 'svm Training')\n",
        "\n",
        "print('\\r')\n",
        "\n",
        "classification_eval(y_test, y_test_pred, 'svm Testing')"
      ],
      "metadata": {
        "id": "irMay_CDAD_5",
        "colab": {
          "base_uri": "https://localhost:8080/"
        },
        "outputId": "368693be-5ed8-4fbd-f068-110e6dcfe5ac"
      },
      "execution_count": 39,
      "outputs": [
        {
          "output_type": "stream",
          "name": "stdout",
          "text": [
            "===== Evaluation Model: svm Training =====\n",
            "[[ 9906 13461]\n",
            " [ 3408 43225]]\n",
            "\n",
            "Accuracy   : 75.9 %\n",
            "Precision  : 76.25 %\n",
            "Recall     : 92.69 %\n",
            "\r\n",
            "===== Evaluation Model: svm Testing =====\n",
            "[[ 4288  5776]\n",
            " [ 1390 18546]]\n",
            "\n",
            "Accuracy   : 76.11 %\n",
            "Precision  : 76.25 %\n",
            "Recall     : 93.03 %\n"
          ]
        }
      ]
    },
    {
      "cell_type": "markdown",
      "source": [
        "##Hyperparameter Tuning"
      ],
      "metadata": {
        "id": "xQjHkUh1ksmV"
      }
    },
    {
      "cell_type": "markdown",
      "source": [
        "###Random Forest"
      ],
      "metadata": {
        "id": "hwhOPzen_hrF"
      }
    },
    {
      "cell_type": "code",
      "source": [
        "# Library untuk Tuning\n",
        "from sklearn.model_selection import GridSearchCV\n",
        "from sklearn.model_selection import KFold\n",
        "\n",
        "cv = KFold(n_splits=10,\n",
        "           shuffle=True,\n",
        "           random_state=1)"
      ],
      "metadata": {
        "id": "fqVF29hq-sDl"
      },
      "execution_count": 54,
      "outputs": []
    },
    {
      "cell_type": "code",
      "source": [
        "hyper_ranFor = dict(max_depth=[1,2,3,4,5], criterion=['gini','entropy'])\n",
        "\n",
        "ranFor = RandomForestClassifier()\n",
        "\n",
        "clf = GridSearchCV(ranFor, hyper_ranFor, cv=10)\n",
        "best_model = clf.fit(X,y)"
      ],
      "metadata": {
        "id": "8DRo6UjE96P5"
      },
      "execution_count": 70,
      "outputs": []
    },
    {
      "cell_type": "code",
      "source": [
        "clf.best_params_"
      ],
      "metadata": {
        "colab": {
          "base_uri": "https://localhost:8080/"
        },
        "id": "8M88hHimponG",
        "outputId": "95ba3606-202a-4a0e-9fa8-bdc04351ad8e"
      },
      "execution_count": 73,
      "outputs": [
        {
          "output_type": "execute_result",
          "data": {
            "text/plain": [
              "{'criterion': 'gini', 'max_depth': 1}"
            ]
          },
          "metadata": {},
          "execution_count": 73
        }
      ]
    },
    {
      "cell_type": "code",
      "source": [
        "print('Best max_depth:', best_model.best_estimator_.get_params()['max_depth'])\n",
        "print('Best criterion:', best_model.best_estimator_.get_params()['criterion'])"
      ],
      "metadata": {
        "colab": {
          "base_uri": "https://localhost:8080/"
        },
        "id": "LDuf_OFOpOkR",
        "outputId": "1455b5fb-d603-4141-ed01-6f31c08b0453"
      },
      "execution_count": 71,
      "outputs": [
        {
          "output_type": "stream",
          "name": "stdout",
          "text": [
            "Best max_depth: 1\n",
            "Best criterion: gini\n"
          ]
        }
      ]
    },
    {
      "cell_type": "code",
      "source": [
        "y_test_pred = best_model.predict(X_test)\n",
        "classification_eval(y_test, y_test_pred, 'random forest Testing')"
      ],
      "metadata": {
        "colab": {
          "base_uri": "https://localhost:8080/"
        },
        "id": "01g3TTOhqtq8",
        "outputId": "5355f8cd-5e4d-40f9-a771-64ca6f4a5fa7"
      },
      "execution_count": 75,
      "outputs": [
        {
          "output_type": "stream",
          "name": "stdout",
          "text": [
            "===== Evaluation Model: random forest Testing =====\n",
            "[[    7 10057]\n",
            " [    0 19936]]\n",
            "\n",
            "Accuracy   : 66.48 %\n",
            "Precision  : 66.47 %\n",
            "Recall     : 100.0 %\n"
          ]
        },
        {
          "output_type": "stream",
          "name": "stderr",
          "text": [
            "/usr/local/lib/python3.8/dist-packages/sklearn/base.py:450: UserWarning: X does not have valid feature names, but RandomForestClassifier was fitted with feature names\n",
            "  warnings.warn(\n"
          ]
        }
      ]
    },
    {
      "cell_type": "markdown",
      "source": [
        "###SVM"
      ],
      "metadata": {
        "id": "16A4TfOh_kSG"
      }
    },
    {
      "cell_type": "code",
      "source": [
        "# Library untuk Tuning\n",
        "#Hyperparameter Tuning\n",
        "from sklearn.model_selection import GridSearchCV\n",
        "from sklearn.model_selection import KFold\n",
        "\n",
        "cv = KFold(n_splits=10,\n",
        "           shuffle=True,\n",
        "           random_state=1)"
      ],
      "metadata": {
        "id": "clRR84hZhQ4c"
      },
      "execution_count": 41,
      "outputs": []
    },
    {
      "cell_type": "code",
      "source": [
        "from sklearn.svm import SVC\n",
        "hyper_svm = dict(kernel=['rbf', 'poly'], C=[0.1, 1, 10])\n",
        "\n",
        "svm = SVC()\n",
        "\n",
        "clf = GridSearchCV(svm, hyper_svm, cv=10)\n",
        "best_model = clf.fit(X,y)"
      ],
      "metadata": {
        "id": "hX8rPNlQkwgT"
      },
      "execution_count": null,
      "outputs": []
    },
    {
      "cell_type": "code",
      "source": [
        "best_model.best_estimator_.get_params()"
      ],
      "metadata": {
        "id": "2DzdfAxihU4e"
      },
      "execution_count": null,
      "outputs": []
    },
    {
      "cell_type": "code",
      "source": [
        "print('Best kernel:', best_model.best_estimator_.get_params()['kernel'])\n",
        "print('Best C:', best_model.best_estimator_.get_params()['C'])"
      ],
      "metadata": {
        "id": "0FCI8xfEkJft"
      },
      "execution_count": null,
      "outputs": []
    },
    {
      "cell_type": "code",
      "source": [
        "y_test_pred = best_model.predict(X_test)\n",
        "classification_eval(y_test, y_test_pred, 'logistic regression Testing')"
      ],
      "metadata": {
        "id": "XtDouZoJkLau"
      },
      "execution_count": null,
      "outputs": []
    }
  ]
}